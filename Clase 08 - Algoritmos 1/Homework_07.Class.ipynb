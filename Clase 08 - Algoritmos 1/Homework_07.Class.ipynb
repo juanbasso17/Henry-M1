{
 "cells": [
  {
   "cell_type": "markdown",
   "metadata": {},
   "source": [
    "# Práctica Clase 7"
   ]
  },
  {
   "cell_type": "markdown",
   "metadata": {},
   "source": [
    "1) Diseñar una clase que permita trabajar con un árbol binario y que contenga los métodos:<br>\n",
    "    * insertaVal: para insertar un dato<br>\n",
    "    * buscaVal: que devuelva True o False si existe o no un dato<br>\n",
    "    * verVal: que imprima por pantalla los valores del árbol<br>\n",
    "\n",
    "Nota: Se puede utilizar la recursividad\n"
   ]
  },
  {
   "cell_type": "code",
   "execution_count": 5,
   "metadata": {},
   "outputs": [],
   "source": [
    "class Nodo():\n",
    "    def __init__(self, dato):\n",
    "        self.dato = dato\n",
    "        self.izq = None\n",
    "        self.der = None"
   ]
  },
  {
   "cell_type": "code",
   "execution_count": 8,
   "metadata": {},
   "outputs": [],
   "source": [
    "class Arbol():\n",
    "    def __init__(self):\n",
    "        self.raiz = None\n",
    "\n",
    "    def insertaVal(self, dato):\n",
    "        n = Nodo(dato)\n",
    "        if (self.raiz == None):\n",
    "            self.raiz = n\n",
    "        else:\n",
    "            puntero = self.raiz\n",
    "            if (puntero.izq == None):\n",
    "                puntero.izq = n\n",
    "            if (puntero.der == None):\n",
    "                puntero.der = n"
   ]
  },
  {
   "cell_type": "code",
   "execution_count": 9,
   "metadata": {},
   "outputs": [],
   "source": [
    "a = Arbol()"
   ]
  },
  {
   "cell_type": "code",
   "execution_count": 10,
   "metadata": {},
   "outputs": [],
   "source": [
    "a.insertaVal(2)"
   ]
  },
  {
   "cell_type": "code",
   "execution_count": 6,
   "metadata": {},
   "outputs": [],
   "source": [
    "class Arbol(object):\n",
    "    \n",
    "    def __init__(self, dato):\n",
    "        \"\"\" Atributos \"\"\"\n",
    "        self.data = dato\n",
    "        self.izq = None\n",
    "        self.der = None\n",
    "    \n",
    "\n",
    "    def insertaVal(self, val):\n",
    "        if self.data != None:                                                   # Se pregunta si el nodo al que apuntamos esta vacio\n",
    "            if val < self.data:                                                 # Preguntamos si el valor a insertar es menor\n",
    "                if self.izq == None:                                            # Si es menor, checkeamos que izq no sea None\n",
    "                    self.izq = Arbol(val)                                       # Si es None, lo insertamos ahi\n",
    "                else:                                                           # Si no es None, significa que hay un objeto de tipo Arbol alli\n",
    "                    self.izq.insertaVal(val)                                    # Y le aplicamos recursividad de insertaVal\n",
    "            elif val > self.data:                                               # Si no es menor, preguntamos si es mayor\n",
    "                if self.der == None:                                            # Si es mayor, checkeamos que der no sea None, osea que no este vacio\n",
    "                    self.der = Arbol(val)                                       # Si esta vacio, insertamos alli\n",
    "                else:                                                           # Si no es None, significa que hay un objeto de tipo Arbol alli\n",
    "                    self.der.insertaVal(val)                                    # Y le aplicamos recursividad de insertaVal\n",
    "            else:                                                               # Si no es menor ni mayor, significa que es igual\n",
    "                return 'No puede haber valores duplicados'                      # Y no puede haber valores repetidos\n",
    "        else:\n",
    "            self.data = val                                                     # Si el nodo apuntado si era None, lo creamos alli\n",
    "\n",
    "\n",
    "    def buscaVal(self, val):\n",
    "        if val < self.data:                                                     # Preguntamos si el valor buscado es menor al que apuntamos\n",
    "            if self.izq == None:                                                # Si es menor, vamos por la izq, y si la izquierda esta vacia\n",
    "                return False                                                    # Significa que no existe el dato\n",
    "            else:                                                               # Si no esta vacia, significa que hay un Arbol alli\n",
    "                return self.izq.buscaVal(val)                                   # Y se le puede aplicar recursividada de buscaVal\n",
    "        elif val > self.data:                                                   # Si no es menor, preguntamos si es mayor\n",
    "            if self.der == None:                                                # Si es mayor, vamos por la der, y si en la der no hay nada\n",
    "                return False                                                    # Significa que nuestro valor no existe\n",
    "            else:                                                               # Si no esta vacia la der, significa que hya un objeto Arbol alli\n",
    "                return self.der.buscaVal(val)                                   # Y le podemos aplicar recursividad de buscaVal\n",
    "        else:                                                                   # Si no es menor ni mayor significa que es igual al valor buscado\n",
    "            return True                                                         # Y si es igual retornamos True\n",
    "\n",
    "\n",
    "    def verVal(self):\n",
    "        if self.izq != None:                                                    # Si existe algo a la izquierda\n",
    "            self.izq.verVal()                                                   # Aplicamos recursividad\n",
    "        print(self.data)                                                        # Una vez que no haya nada mas a la izquierda, print al valor apuntado\n",
    "        if self.der != None:                                                    # Y vamos hacia la derecha, si en la derecha hay algo\n",
    "            self.der.verVal()                                                   # Aplicamos la recursividad"
   ]
  },
  {
   "cell_type": "code",
   "execution_count": 5,
   "metadata": {},
   "outputs": [
    {
     "name": "stdout",
     "output_type": "stream",
     "text": [
      "None\n"
     ]
    }
   ],
   "source": [
    "a = Arbol(None)\n",
    "print(a.izderq)"
   ]
  },
  {
   "cell_type": "code",
   "execution_count": 13,
   "metadata": {},
   "outputs": [],
   "source": [
    "root = Arbol(200)\n",
    "root.insertaVal(180)\n",
    "root.insertaVal(170)\n",
    "root.insertaVal(210)\n",
    "root.insertaVal(189)"
   ]
  },
  {
   "cell_type": "code",
   "execution_count": 14,
   "metadata": {},
   "outputs": [
    {
     "data": {
      "text/plain": [
       "'No puede haber valores duplicados'"
      ]
     },
     "execution_count": 14,
     "metadata": {},
     "output_type": "execute_result"
    }
   ],
   "source": [
    "root.insertaVal(200)"
   ]
  },
  {
   "cell_type": "code",
   "execution_count": 8,
   "metadata": {},
   "outputs": [
    {
     "data": {
      "text/plain": [
       "True"
      ]
     },
     "execution_count": 8,
     "metadata": {},
     "output_type": "execute_result"
    }
   ],
   "source": [
    "root.buscaVal(180)"
   ]
  },
  {
   "cell_type": "code",
   "execution_count": 9,
   "metadata": {},
   "outputs": [
    {
     "data": {
      "text/plain": [
       "False"
      ]
     },
     "execution_count": 9,
     "metadata": {},
     "output_type": "execute_result"
    }
   ],
   "source": [
    "root.buscaVal(220)"
   ]
  },
  {
   "cell_type": "code",
   "execution_count": 16,
   "metadata": {},
   "outputs": [
    {
     "name": "stdout",
     "output_type": "stream",
     "text": [
      "170\n",
      "180\n",
      "189\n",
      "200\n",
      "210\n"
     ]
    }
   ],
   "source": [
    "root.verVal()"
   ]
  },
  {
   "cell_type": "code",
   "execution_count": 15,
   "metadata": {},
   "outputs": [
    {
     "name": "stdout",
     "output_type": "stream",
     "text": [
      "200\n",
      "├── 180\n",
      "│   ├── 170\n",
      "│   └── 189\n",
      "└── 210\n"
     ]
    }
   ],
   "source": [
    "from anytree import Node as AnyNode, RenderTree\n",
    "def convert_to_anytree(node):\n",
    "    any_node = AnyNode(str(node.data))\n",
    "    if node.izq:\n",
    "        any_izq = convert_to_anytree(node.izq)\n",
    "        any_izq.parent = any_node\n",
    "    if node.der:\n",
    "        any_derec = convert_to_anytree(node.der)\n",
    "        any_derec.parent = any_node\n",
    "    return any_node\n",
    "\n",
    "# Crea el árbol utilizando tu clase Node\n",
    "a = Arbol(200)\n",
    "a.insertaVal(180)\n",
    "a.insertaVal(170)\n",
    "a.insertaVal(210)\n",
    "a.insertaVal(189)\n",
    "\n",
    "# Convierte el árbol a un objeto anytree\n",
    "any_root_node = convert_to_anytree(a)\n",
    "\n",
    "# Visualiza el árbol\n",
    "for pre, _, node in RenderTree(any_root_node):\n",
    "    print(f\"{pre}{node.name}\")\n"
   ]
  },
  {
   "cell_type": "code",
   "execution_count": 17,
   "metadata": {},
   "outputs": [],
   "source": [
    "array = [1,2,3,4,65,6,7,9,4,0]    # N  -> Cantidad de elementos o el tamaño de entrada\n",
    "                                     \n",
    "                                    # N = 10  -> Cantida de elementos del objeto"
   ]
  },
  {
   "cell_type": "code",
   "execution_count": 21,
   "metadata": {},
   "outputs": [],
   "source": [
    "buscar = int(input('Que valor buscar'))\n",
    "for item in array:\n",
    "    if item == buscar:\n",
    "        print('Se encontro')\n",
    "        break\n",
    "# O(n)"
   ]
  },
  {
   "cell_type": "code",
   "execution_count": 22,
   "metadata": {},
   "outputs": [
    {
     "data": {
      "text/plain": [
       "1"
      ]
     },
     "execution_count": 22,
     "metadata": {},
     "output_type": "execute_result"
    }
   ],
   "source": [
    "array[0]            # O(1)\n"
   ]
  },
  {
   "cell_type": "code",
   "execution_count": 24,
   "metadata": {},
   "outputs": [
    {
     "name": "stdout",
     "output_type": "stream",
     "text": [
      "1\n",
      "2\n",
      "3\n",
      "4\n",
      "5\n",
      "6\n",
      "7\n",
      "8\n",
      "9\n"
     ]
    }
   ],
   "source": [
    "lista_listas = [[1,2,3],[4,5,6],[7,8,9]]\n",
    "\n",
    "for item in lista_listas:\n",
    "    for j in item:\n",
    "        print(j)\n",
    "# O(n^2)"
   ]
  },
  {
   "cell_type": "code",
   "execution_count": 30,
   "metadata": {},
   "outputs": [
    {
     "data": {
      "text/plain": [
       "[4, 8, 5, 10, 7, 3, 6, 1, 2, 9]"
      ]
     },
     "execution_count": 30,
     "metadata": {},
     "output_type": "execute_result"
    }
   ],
   "source": [
    "from random import sample\n",
    "\n",
    "numeros = sample(range(1,11),10)\n",
    "numeros"
   ]
  },
  {
   "cell_type": "code",
   "execution_count": 31,
   "metadata": {},
   "outputs": [
    {
     "name": "stdout",
     "output_type": "stream",
     "text": [
      "10\n"
     ]
    }
   ],
   "source": [
    "max = numeros[0]\n",
    "\n",
    "for num in numeros:\n",
    "    if num > max:\n",
    "        max = num\n",
    "print(max)\n",
    "# O(n)"
   ]
  },
  {
   "cell_type": "code",
   "execution_count": 33,
   "metadata": {},
   "outputs": [
    {
     "name": "stdout",
     "output_type": "stream",
     "text": [
      "1\n"
     ]
    }
   ],
   "source": [
    "min = numeros[0]\n",
    "\n",
    "for num in numeros:\n",
    "    if num < min:\n",
    "        min = num\n",
    "print(min)\n",
    "#O(n)"
   ]
  },
  {
   "cell_type": "code",
   "execution_count": 34,
   "metadata": {},
   "outputs": [
    {
     "name": "stdout",
     "output_type": "stream",
     "text": [
      "10\n",
      "1\n"
     ]
    }
   ],
   "source": [
    "min = numeros[0]\n",
    "max = numeros[0]\n",
    "for num in numeros:\n",
    "    if num < min:\n",
    "        min = num\n",
    "for num in numeros:\n",
    "    if num > max:\n",
    "        max = num\n",
    "print(max)\n",
    "print(min)\n",
    "#O(n) + O(n) ->  O(2n)"
   ]
  },
  {
   "cell_type": "code",
   "execution_count": 35,
   "metadata": {},
   "outputs": [
    {
     "name": "stdout",
     "output_type": "stream",
     "text": [
      "10\n",
      "1\n"
     ]
    }
   ],
   "source": [
    "min = numeros[0]\n",
    "max = numeros[0]\n",
    "\n",
    "for num in numeros:\n",
    "    if num < min:\n",
    "        min = num\n",
    "    if num > max:\n",
    "        max = num\n",
    "\n",
    "print(max)\n",
    "print(min)\n",
    "\n",
    "#O(n)"
   ]
  },
  {
   "cell_type": "code",
   "execution_count": 38,
   "metadata": {},
   "outputs": [
    {
     "data": {
      "text/plain": [
       "[1, 2, 3, 4, 5, 6, 7, 8, 9, 10]"
      ]
     },
     "execution_count": 38,
     "metadata": {},
     "output_type": "execute_result"
    }
   ],
   "source": [
    "numeros.sort()          # QuickSort\n",
    "numeros"
   ]
  }
 ],
 "metadata": {
  "kernelspec": {
   "display_name": "Python 3.11.3 64-bit",
   "language": "python",
   "name": "python3"
  },
  "language_info": {
   "codemirror_mode": {
    "name": "ipython",
    "version": 3
   },
   "file_extension": ".py",
   "mimetype": "text/x-python",
   "name": "python",
   "nbconvert_exporter": "python",
   "pygments_lexer": "ipython3",
   "version": "3.11.3"
  },
  "vscode": {
   "interpreter": {
    "hash": "52634da84371cba311ea128a5ea7cdc41ff074b781779e754b270ff9f8153cee"
   }
  }
 },
 "nbformat": 4,
 "nbformat_minor": 4
}
