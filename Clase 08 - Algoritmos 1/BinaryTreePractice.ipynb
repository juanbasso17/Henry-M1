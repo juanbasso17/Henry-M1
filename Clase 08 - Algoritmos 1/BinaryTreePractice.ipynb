{
 "cells": [
  {
   "attachments": {},
   "cell_type": "markdown",
   "metadata": {},
   "source": [
    "1) Diseñar una clase que permita trabajar con un árbol binario y que contenga los métodos:<br>\n",
    "    * insertaVal: para insertar un dato<br>\n",
    "    * buscaVal: que devuelva True o False si existe o no un dato<br>\n",
    "    * verVal: que imprima por pantalla los valores del árbol<br>\n",
    "\n",
    "Nota: Se puede utilizar la recursividad\n"
   ]
  },
  {
   "cell_type": "code",
   "execution_count": 76,
   "metadata": {},
   "outputs": [],
   "source": [
    "class Tree():\n",
    "    def __init__(self,dato):\n",
    "        self.data = dato\n",
    "        self.left = None\n",
    "        self.right = None \n",
    "    \n",
    "    def indata(self,value):\n",
    "        if value < self.data:\n",
    "            if self.left == None:\n",
    "                self.left = Tree(value)\n",
    "            else:\n",
    "                self.left.indata(value)\n",
    "        elif value > self.data:\n",
    "            if self.right == None:\n",
    "                self.right = Tree(value)\n",
    "            else:\n",
    "                self.right.indata(value)\n",
    "        else:\n",
    "            print('No duplicate values allowed')\n",
    "\n",
    "    def clear(self):            # This will empty the whole Tree. No values will remain. It's like it resets the tree.\n",
    "        self.data = None\n",
    "\n",
    "    def fdata(self,value): # fdata stands for \"find data\", meaning to find a specific piece of data inside our binary tree.\n",
    "        if value < self.data:\n",
    "            if self.left == None:\n",
    "                return False\n",
    "            else:\n",
    "                return self.left.fdata(value)\n",
    "        elif value > self.data:\n",
    "            if self.right == None:\n",
    "                return False\n",
    "            else:\n",
    "                return self.right.fdata(value)\n",
    "        else:\n",
    "            return True\n",
    "\n",
    "    def showdata(self):\n",
    "        if self.left != None:\n",
    "            self.left.showdata()\n",
    "        print(self.data)\n",
    "        if self.right != None:\n",
    "            self.right.showdata()\n",
    "        else:\n",
    "            print('Empty node')\n"
   ]
  },
  {
   "cell_type": "code",
   "execution_count": 77,
   "metadata": {},
   "outputs": [
    {
     "ename": "TypeError",
     "evalue": "Tree.__init__() missing 1 required positional argument: 'dato'",
     "output_type": "error",
     "traceback": [
      "\u001b[0;31m---------------------------------------------------------------------------\u001b[0m",
      "\u001b[0;31mTypeError\u001b[0m                                 Traceback (most recent call last)",
      "Cell \u001b[0;32mIn[77], line 1\u001b[0m\n\u001b[0;32m----> 1\u001b[0m tree1\u001b[39m=\u001b[39m Tree()\n",
      "\u001b[0;31mTypeError\u001b[0m: Tree.__init__() missing 1 required positional argument: 'dato'"
     ]
    }
   ],
   "source": [
    "tree1= Tree()"
   ]
  },
  {
   "cell_type": "code",
   "execution_count": 72,
   "metadata": {},
   "outputs": [],
   "source": [
    "tree1.indata(100)\n",
    "tree1.indata(50)\n",
    "tree1.indata(60)\n",
    "tree1.indata(120)\n",
    "tree1.indata(110)\n"
   ]
  },
  {
   "cell_type": "code",
   "execution_count": 73,
   "metadata": {},
   "outputs": [
    {
     "name": "stdout",
     "output_type": "stream",
     "text": [
      "50\n",
      "60\n",
      "Empty node\n",
      "100\n",
      "110\n",
      "Empty node\n",
      "120\n",
      "Empty node\n"
     ]
    }
   ],
   "source": [
    "tree1.root.showdata()"
   ]
  },
  {
   "cell_type": "code",
   "execution_count": 69,
   "metadata": {},
   "outputs": [
    {
     "data": {
      "text/plain": [
       "100"
      ]
     },
     "execution_count": 69,
     "metadata": {},
     "output_type": "execute_result"
    }
   ],
   "source": [
    "tree1.root.data"
   ]
  },
  {
   "cell_type": "code",
   "execution_count": null,
   "metadata": {},
   "outputs": [],
   "source": []
  }
 ],
 "metadata": {
  "kernelspec": {
   "display_name": "Python 3",
   "language": "python",
   "name": "python3"
  },
  "language_info": {
   "codemirror_mode": {
    "name": "ipython",
    "version": 3
   },
   "file_extension": ".py",
   "mimetype": "text/x-python",
   "name": "python",
   "nbconvert_exporter": "python",
   "pygments_lexer": "ipython3",
   "version": "3.11.4"
  },
  "orig_nbformat": 4
 },
 "nbformat": 4,
 "nbformat_minor": 2
}
