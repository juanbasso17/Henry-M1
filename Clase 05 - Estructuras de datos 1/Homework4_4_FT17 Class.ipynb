{
 "cells": [
  {
   "cell_type": "code",
   "execution_count": 1,
   "metadata": {},
   "outputs": [],
   "source": [
    "import pandas as pd"
   ]
  },
  {
   "cell_type": "code",
   "execution_count": null,
   "metadata": {},
   "outputs": [],
   "source": [
    "r'C:\\Users\\Gonzalo Posse\\Desktop\\Desk\\Henry-Mentor\\Instructor\\Data FT-17\\DS-M1\\M1\\Clase 04\\datasets\\hospitales2.csv'\n",
    "'M1\\Clase 04\\datasets\\hospitales2.csv'"
   ]
  },
  {
   "cell_type": "code",
   "execution_count": 2,
   "metadata": {},
   "outputs": [],
   "source": [
    "df = pd.read_csv(r'datasets\\hospitales2.csv', encoding='utf-8')             "
   ]
  },
  {
   "cell_type": "code",
   "execution_count": 3,
   "metadata": {},
   "outputs": [
    {
     "data": {
      "text/html": [
       "<div>\n",
       "<style scoped>\n",
       "    .dataframe tbody tr th:only-of-type {\n",
       "        vertical-align: middle;\n",
       "    }\n",
       "\n",
       "    .dataframe tbody tr th {\n",
       "        vertical-align: top;\n",
       "    }\n",
       "\n",
       "    .dataframe thead th {\n",
       "        text-align: right;\n",
       "    }\n",
       "</style>\n",
       "<table border=\"1\" class=\"dataframe\">\n",
       "  <thead>\n",
       "    <tr style=\"text-align: right;\">\n",
       "      <th></th>\n",
       "      <th>WKT</th>\n",
       "      <th>ID</th>\n",
       "      <th>NOMBRE</th>\n",
       "      <th>NOM_MAP</th>\n",
       "      <th>OBJETO</th>\n",
       "      <th>CALLE</th>\n",
       "      <th>ALTURA</th>\n",
       "      <th>DOM_NORMA</th>\n",
       "      <th>DOM_GEO</th>\n",
       "      <th>TELEFONO</th>\n",
       "      <th>GUARDIA</th>\n",
       "      <th>FAX</th>\n",
       "      <th>WEB</th>\n",
       "      <th>COD_POSTAL</th>\n",
       "      <th>TIPO</th>\n",
       "      <th>TIPO_ESPEC</th>\n",
       "      <th>MOD_AT_1</th>\n",
       "      <th>MOD_AT_2</th>\n",
       "      <th>DEPEND_ADM</th>\n",
       "      <th>DIRECTOR</th>\n",
       "    </tr>\n",
       "  </thead>\n",
       "  <tbody>\n",
       "    <tr>\n",
       "      <th>0</th>\n",
       "      <td>POINT (-58.3775508488443 -34.6288473603881)</td>\n",
       "      <td>1.0</td>\n",
       "      <td>HOSPITAL GENERAL DE NIÑOS PEDRO DE ELIZALDE</td>\n",
       "      <td>HOSP. DE ELIZALDE</td>\n",
       "      <td>HOSPITAL</td>\n",
       "      <td>MANUEL A. MONTES DE OCA</td>\n",
       "      <td>40</td>\n",
       "      <td>MONTES DE OCA, MANUEL AV. 40</td>\n",
       "      <td>40 MONTES DE OCA, MANUEL AV.</td>\n",
       "      <td>4307-5842 / 5844</td>\n",
       "      <td>4307-5442 / 4300-1700</td>\n",
       "      <td>4302-7400</td>\n",
       "      <td>www.elizalde.gov.ar</td>\n",
       "      <td>C1270AAN</td>\n",
       "      <td>Hospital de niños</td>\n",
       "      <td>PEDIATRIA</td>\n",
       "      <td>AT. AMB./INTERNACION</td>\n",
       "      <td>DIAG./TRATAM.</td>\n",
       "      <td>Ministerio de Salud GCBA</td>\n",
       "      <td>Dr. Javier Indart</td>\n",
       "    </tr>\n",
       "    <tr>\n",
       "      <th>1</th>\n",
       "      <td>POINT (-58.4120700769456 -34.5941919726393)</td>\n",
       "      <td>2.0</td>\n",
       "      <td>HOSPITAL GENERAL DE NIÑOS RICARDO GUTIERREZ</td>\n",
       "      <td>HOSP. GUTIERREZ</td>\n",
       "      <td>HOSPITAL</td>\n",
       "      <td>GALLO</td>\n",
       "      <td>1330</td>\n",
       "      <td>GALLO 1330</td>\n",
       "      <td>1330 GALLO</td>\n",
       "      <td>4962-9247 / 9248 / 9280</td>\n",
       "      <td>4962-9232</td>\n",
       "      <td>4962-3762</td>\n",
       "      <td>www.guti.gov.ar</td>\n",
       "      <td>C1425EFD</td>\n",
       "      <td>Hospital de niños</td>\n",
       "      <td>PEDIATRIA</td>\n",
       "      <td>AT. AMB./INTERNACION</td>\n",
       "      <td>DIAG./TRATAM.</td>\n",
       "      <td>Ministerio de Salud GCBA</td>\n",
       "      <td>Dra. María Cristina Galoppo</td>\n",
       "    </tr>\n",
       "    <tr>\n",
       "      <th>2</th>\n",
       "      <td>POINT (-58.4027276547828 -34.5845283357505)</td>\n",
       "      <td>4.0</td>\n",
       "      <td>HOSPITAL DE ODONTOLOGIA DR. RAMON CARRILLO (EX...</td>\n",
       "      <td>HOSP. ODONTOLOGICO CARRILLO</td>\n",
       "      <td>HOSPITAL</td>\n",
       "      <td>SANCHEZ DE BUSTAMANTE</td>\n",
       "      <td>2529</td>\n",
       "      <td>SANCHEZ DE BUSTAMANTE 2529</td>\n",
       "      <td>2529 SANCHEZ DE BUSTAMANTE</td>\n",
       "      <td>4805-5521 / 7533</td>\n",
       "      <td>4805-6407</td>\n",
       "      <td>4805-7533</td>\n",
       "      <td>NaN</td>\n",
       "      <td>C1425DUY</td>\n",
       "      <td>Hospital especializado</td>\n",
       "      <td>ODONTOLOGIA</td>\n",
       "      <td>AT. AMBULATORIA</td>\n",
       "      <td>DIAG./TRATAM.</td>\n",
       "      <td>Ministerio de Salud GCBA</td>\n",
       "      <td>Dra. Susana Rita Lisanti</td>\n",
       "    </tr>\n",
       "    <tr>\n",
       "      <th>3</th>\n",
       "      <td>POINT (-58.3851559118889 -34.6394041316484)</td>\n",
       "      <td>6.0</td>\n",
       "      <td>HOSPITAL DE SALUD MENTAL BRAULIO MOYANO</td>\n",
       "      <td>HOSP. MOYANO</td>\n",
       "      <td>HOSPITAL</td>\n",
       "      <td>BRANDSEN</td>\n",
       "      <td>2570</td>\n",
       "      <td>BRANDSEN 2570</td>\n",
       "      <td>2570 BRANDSEN</td>\n",
       "      <td>4301-3655 / 3659</td>\n",
       "      <td>4301-4522</td>\n",
       "      <td>4303-3655/59</td>\n",
       "      <td>www.moyano.org.ar</td>\n",
       "      <td>C1287ABJ</td>\n",
       "      <td>Hospital especializado</td>\n",
       "      <td>SALUD MENTAL</td>\n",
       "      <td>AT. AMB./INTERNACION</td>\n",
       "      <td>DIAG./TRATAM.</td>\n",
       "      <td>Ministerio de Salud GCBA</td>\n",
       "      <td>Dra. Norma Derito</td>\n",
       "    </tr>\n",
       "    <tr>\n",
       "      <th>4</th>\n",
       "      <td>POINT (-58.3913114406535 -34.6341535760002)</td>\n",
       "      <td>7.0</td>\n",
       "      <td>HOSPITAL DE GASTROENTEROLOGIA B. UDAONDO</td>\n",
       "      <td>HOSP. UDAONDO</td>\n",
       "      <td>HOSPITAL</td>\n",
       "      <td>CASEROS</td>\n",
       "      <td>2061</td>\n",
       "      <td>CASEROS AV. 2061</td>\n",
       "      <td>2061 CASEROS AV.</td>\n",
       "      <td>4306-4641 al 4649</td>\n",
       "      <td>4306-4641 al 49 (int. 125)</td>\n",
       "      <td>4306-3013</td>\n",
       "      <td>NaN</td>\n",
       "      <td>C1264AAA</td>\n",
       "      <td>Hospital especializado</td>\n",
       "      <td>ENF. APAR. DIGESTIVO</td>\n",
       "      <td>AT. AMB./INTERNACION</td>\n",
       "      <td>DIAG./TRATAM.</td>\n",
       "      <td>Ministerio de Salud GCBA</td>\n",
       "      <td>Dr. Eduardo Gustavo Sosa</td>\n",
       "    </tr>\n",
       "  </tbody>\n",
       "</table>\n",
       "</div>"
      ],
      "text/plain": [
       "                                           WKT   ID  \\\n",
       "0  POINT (-58.3775508488443 -34.6288473603881)  1.0   \n",
       "1  POINT (-58.4120700769456 -34.5941919726393)  2.0   \n",
       "2  POINT (-58.4027276547828 -34.5845283357505)  4.0   \n",
       "3  POINT (-58.3851559118889 -34.6394041316484)  6.0   \n",
       "4  POINT (-58.3913114406535 -34.6341535760002)  7.0   \n",
       "\n",
       "                                              NOMBRE  \\\n",
       "0        HOSPITAL GENERAL DE NIÑOS PEDRO DE ELIZALDE   \n",
       "1        HOSPITAL GENERAL DE NIÑOS RICARDO GUTIERREZ   \n",
       "2  HOSPITAL DE ODONTOLOGIA DR. RAMON CARRILLO (EX...   \n",
       "3            HOSPITAL DE SALUD MENTAL BRAULIO MOYANO   \n",
       "4           HOSPITAL DE GASTROENTEROLOGIA B. UDAONDO   \n",
       "\n",
       "                       NOM_MAP    OBJETO                    CALLE  ALTURA  \\\n",
       "0            HOSP. DE ELIZALDE  HOSPITAL  MANUEL A. MONTES DE OCA      40   \n",
       "1              HOSP. GUTIERREZ  HOSPITAL                    GALLO    1330   \n",
       "2  HOSP. ODONTOLOGICO CARRILLO  HOSPITAL    SANCHEZ DE BUSTAMANTE    2529   \n",
       "3                 HOSP. MOYANO  HOSPITAL                 BRANDSEN    2570   \n",
       "4                HOSP. UDAONDO  HOSPITAL                  CASEROS    2061   \n",
       "\n",
       "                      DOM_NORMA                       DOM_GEO  \\\n",
       "0  MONTES DE OCA, MANUEL AV. 40  40 MONTES DE OCA, MANUEL AV.   \n",
       "1                    GALLO 1330                    1330 GALLO   \n",
       "2    SANCHEZ DE BUSTAMANTE 2529    2529 SANCHEZ DE BUSTAMANTE   \n",
       "3                 BRANDSEN 2570                 2570 BRANDSEN   \n",
       "4              CASEROS AV. 2061              2061 CASEROS AV.   \n",
       "\n",
       "                  TELEFONO                     GUARDIA           FAX  \\\n",
       "0         4307-5842 / 5844       4307-5442 / 4300-1700     4302-7400   \n",
       "1  4962-9247 / 9248 / 9280                   4962-9232     4962-3762   \n",
       "2         4805-5521 / 7533                   4805-6407     4805-7533   \n",
       "3         4301-3655 / 3659                   4301-4522  4303-3655/59   \n",
       "4        4306-4641 al 4649  4306-4641 al 49 (int. 125)     4306-3013   \n",
       "\n",
       "                   WEB COD_POSTAL                    TIPO  \\\n",
       "0  www.elizalde.gov.ar   C1270AAN       Hospital de niños   \n",
       "1      www.guti.gov.ar   C1425EFD       Hospital de niños   \n",
       "2                  NaN   C1425DUY  Hospital especializado   \n",
       "3    www.moyano.org.ar   C1287ABJ  Hospital especializado   \n",
       "4                  NaN   C1264AAA  Hospital especializado   \n",
       "\n",
       "             TIPO_ESPEC              MOD_AT_1       MOD_AT_2  \\\n",
       "0             PEDIATRIA  AT. AMB./INTERNACION  DIAG./TRATAM.   \n",
       "1             PEDIATRIA  AT. AMB./INTERNACION  DIAG./TRATAM.   \n",
       "2           ODONTOLOGIA       AT. AMBULATORIA  DIAG./TRATAM.   \n",
       "3          SALUD MENTAL  AT. AMB./INTERNACION  DIAG./TRATAM.   \n",
       "4  ENF. APAR. DIGESTIVO  AT. AMB./INTERNACION  DIAG./TRATAM.   \n",
       "\n",
       "                 DEPEND_ADM                     DIRECTOR  \n",
       "0  Ministerio de Salud GCBA            Dr. Javier Indart  \n",
       "1  Ministerio de Salud GCBA  Dra. María Cristina Galoppo  \n",
       "2  Ministerio de Salud GCBA     Dra. Susana Rita Lisanti  \n",
       "3  Ministerio de Salud GCBA            Dra. Norma Derito  \n",
       "4  Ministerio de Salud GCBA     Dr. Eduardo Gustavo Sosa  "
      ]
     },
     "execution_count": 3,
     "metadata": {},
     "output_type": "execute_result"
    }
   ],
   "source": [
    "df.head()"
   ]
  },
  {
   "cell_type": "code",
   "execution_count": 9,
   "metadata": {},
   "outputs": [
    {
     "data": {
      "text/plain": [
       "0     POINT (-58.3775508488443 -34.6288473603881)\n",
       "1     POINT (-58.4120700769456 -34.5941919726393)\n",
       "2     POINT (-58.4027276547828 -34.5845283357505)\n",
       "3     POINT (-58.3851559118889 -34.6394041316484)\n",
       "4     POINT (-58.3913114406535 -34.6341535760002)\n",
       "5     POINT (-58.4349433479819 -34.6084721257413)\n",
       "6     POINT (-58.3758433488021 -34.6302112044495)\n",
       "7     POINT (-58.3823284509488 -34.6357022351559)\n",
       "8     POINT (-58.3821283746958 -34.6364350546569)\n",
       "9     POINT (-58.3601201271455 -34.6388917320834)\n",
       "10    POINT (-58.4409882382439 -34.5538963316473)\n",
       "11     POINT (-58.4027506275377 -34.634856308415)\n",
       "12    POINT (-58.4601855775528 -34.6054342750207)\n",
       "13    POINT (-58.4276597542837 -34.6146348348429)\n",
       "14    POINT (-58.4332484381295 -34.6070507603866)\n",
       "15    POINT (-58.4323966950244 -34.6255031952483)\n",
       "16    POINT (-58.3940641604746 -34.6227125075124)\n",
       "17    POINT (-58.5021449222222 -34.6179817540591)\n",
       "18    POINT (-58.3937269413225 -34.6375293258416)\n",
       "19    POINT (-58.4752588459761 -34.5972098729151)\n",
       "20    POINT (-58.4005134574423 -34.5847659581214)\n",
       "21     POINT (-58.365985088719 -34.6283448581677)\n",
       "22     POINT (-58.4068939142787 -34.581141710889)\n",
       "23     POINT (-58.437981361705 -34.6089728538414)\n",
       "24    POINT (-58.4695020363265 -34.6241704940114)\n",
       "25    POINT (-58.4096107488155 -34.6176598438607)\n",
       "26     POINT (-58.4710781593251 -34.565051956568)\n",
       "27     POINT (-58.5110525000569 -34.599979524264)\n",
       "28      POINT (-58.50761514092 -34.6253367952668)\n",
       "29    POINT (-58.5156291936709 -34.6491867281064)\n",
       "30    POINT (-58.4108602188291 -34.6431172591975)\n",
       "31    POINT (-58.4710976282168 -34.5873917690227)\n",
       "32     POINT (-58.4541167814714 -34.643894071866)\n",
       "33    POINT (-58.4566428491103 -34.6718480140772)\n",
       "34    POINT (-58.3918791813882 -34.6299453614404)\n",
       "35    POINT (-58.3814293381891 -34.6419888014928)\n",
       "Name: WKT, dtype: object"
      ]
     },
     "execution_count": 9,
     "metadata": {},
     "output_type": "execute_result"
    }
   ],
   "source": [
    "df['WKT']"
   ]
  },
  {
   "cell_type": "code",
   "execution_count": 22,
   "metadata": {},
   "outputs": [
    {
     "name": "stdout",
     "output_type": "stream",
     "text": [
      "['POINT', '(-58.4027276547828', '-34.5845283357505)']\n"
     ]
    }
   ],
   "source": [
    "coordenadas = []                        # Creamos una lista vacia para guardar las coordenadas\n",
    "for coord in df['WKT']:\n",
    "    coordenadas.append(coord.split())   # Guardamos la lista de coordenadas dentro de la lista inicial\n",
    "print(coordenadas[2])"
   ]
  },
  {
   "cell_type": "code",
   "execution_count": 18,
   "metadata": {},
   "outputs": [
    {
     "name": "stdout",
     "output_type": "stream",
     "text": [
      "Latitud: -34.6288473603881)\n",
      "Longitud: (-58.3775508488443\n"
     ]
    }
   ],
   "source": [
    "print(f'Latitud: {coordenadas[0][2]}')\n",
    "print(f'Longitud: {coordenadas[0][1]}')"
   ]
  },
  {
   "cell_type": "code",
   "execution_count": 28,
   "metadata": {},
   "outputs": [],
   "source": [
    "longitude = []                                      # Inicializamos listas vacias para guardar los elementos\n",
    "latitude = []\n",
    "\n",
    "for elemento in coordenadas:                        # Recorremos las listas que contienen las coordenadas\n",
    "    lat = elemento[2].strip(')')                    # Eliminamos de latitud el caracter ')'\n",
    "    long = elemento[1].replace('(','')              # Eliminamo de la longitud el caracter '('\n",
    "\n",
    "    longitude.append(float(long))                   # Guardamos en la lista creada anteriormente la longitud convertida en float\n",
    "    latitude.append(float(lat))                     # Guardamos en la lista creada anteriormente la latitud convertida en float"
   ]
  },
  {
   "cell_type": "code",
   "execution_count": 29,
   "metadata": {},
   "outputs": [
    {
     "name": "stdout",
     "output_type": "stream",
     "text": [
      "[-34.6288473603881, -34.5941919726393, -34.5845283357505, -34.6394041316484, -34.6341535760002, -34.6084721257413, -34.6302112044495, -34.6357022351559, -34.6364350546569, -34.6388917320834, -34.5538963316473, -34.634856308415, -34.6054342750207, -34.6146348348429, -34.6070507603866, -34.6255031952483, -34.6227125075124, -34.6179817540591, -34.6375293258416, -34.5972098729151, -34.5847659581214, -34.6283448581677, -34.581141710889, -34.6089728538414, -34.6241704940114, -34.6176598438607, -34.565051956568, -34.599979524264, -34.6253367952668, -34.6491867281064, -34.6431172591975, -34.5873917690227, -34.643894071866, -34.6718480140772, -34.6299453614404, -34.6419888014928]\n",
      "[-58.3775508488443, -58.4120700769456, -58.4027276547828, -58.3851559118889, -58.3913114406535, -58.4349433479819, -58.3758433488021, -58.3823284509488, -58.3821283746958, -58.3601201271455, -58.4409882382439, -58.4027506275377, -58.4601855775528, -58.4276597542837, -58.4332484381295, -58.4323966950244, -58.3940641604746, -58.5021449222222, -58.3937269413225, -58.4752588459761, -58.4005134574423, -58.365985088719, -58.4068939142787, -58.437981361705, -58.4695020363265, -58.4096107488155, -58.4710781593251, -58.5110525000569, -58.50761514092, -58.5156291936709, -58.4108602188291, -58.4710976282168, -58.4541167814714, -58.4566428491103, -58.3918791813882, -58.3814293381891]\n"
     ]
    }
   ],
   "source": [
    "print(latitude)\n",
    "print(longitude)"
   ]
  },
  {
   "cell_type": "code",
   "execution_count": 30,
   "metadata": {},
   "outputs": [
    {
     "data": {
      "text/html": [
       "<div>\n",
       "<style scoped>\n",
       "    .dataframe tbody tr th:only-of-type {\n",
       "        vertical-align: middle;\n",
       "    }\n",
       "\n",
       "    .dataframe tbody tr th {\n",
       "        vertical-align: top;\n",
       "    }\n",
       "\n",
       "    .dataframe thead th {\n",
       "        text-align: right;\n",
       "    }\n",
       "</style>\n",
       "<table border=\"1\" class=\"dataframe\">\n",
       "  <thead>\n",
       "    <tr style=\"text-align: right;\">\n",
       "      <th></th>\n",
       "      <th>WKT</th>\n",
       "      <th>ID</th>\n",
       "      <th>NOMBRE</th>\n",
       "      <th>NOM_MAP</th>\n",
       "      <th>OBJETO</th>\n",
       "      <th>CALLE</th>\n",
       "      <th>ALTURA</th>\n",
       "      <th>DOM_NORMA</th>\n",
       "      <th>DOM_GEO</th>\n",
       "      <th>TELEFONO</th>\n",
       "      <th>GUARDIA</th>\n",
       "      <th>FAX</th>\n",
       "      <th>WEB</th>\n",
       "      <th>COD_POSTAL</th>\n",
       "      <th>TIPO</th>\n",
       "      <th>TIPO_ESPEC</th>\n",
       "      <th>MOD_AT_1</th>\n",
       "      <th>MOD_AT_2</th>\n",
       "      <th>DEPEND_ADM</th>\n",
       "      <th>DIRECTOR</th>\n",
       "    </tr>\n",
       "  </thead>\n",
       "  <tbody>\n",
       "    <tr>\n",
       "      <th>0</th>\n",
       "      <td>POINT (-58.3775508488443 -34.6288473603881)</td>\n",
       "      <td>1.0</td>\n",
       "      <td>HOSPITAL GENERAL DE NIÑOS PEDRO DE ELIZALDE</td>\n",
       "      <td>HOSP. DE ELIZALDE</td>\n",
       "      <td>HOSPITAL</td>\n",
       "      <td>MANUEL A. MONTES DE OCA</td>\n",
       "      <td>40</td>\n",
       "      <td>MONTES DE OCA, MANUEL AV. 40</td>\n",
       "      <td>40 MONTES DE OCA, MANUEL AV.</td>\n",
       "      <td>4307-5842 / 5844</td>\n",
       "      <td>4307-5442 / 4300-1700</td>\n",
       "      <td>4302-7400</td>\n",
       "      <td>www.elizalde.gov.ar</td>\n",
       "      <td>C1270AAN</td>\n",
       "      <td>Hospital de niños</td>\n",
       "      <td>PEDIATRIA</td>\n",
       "      <td>AT. AMB./INTERNACION</td>\n",
       "      <td>DIAG./TRATAM.</td>\n",
       "      <td>Ministerio de Salud GCBA</td>\n",
       "      <td>Dr. Javier Indart</td>\n",
       "    </tr>\n",
       "    <tr>\n",
       "      <th>1</th>\n",
       "      <td>POINT (-58.4120700769456 -34.5941919726393)</td>\n",
       "      <td>2.0</td>\n",
       "      <td>HOSPITAL GENERAL DE NIÑOS RICARDO GUTIERREZ</td>\n",
       "      <td>HOSP. GUTIERREZ</td>\n",
       "      <td>HOSPITAL</td>\n",
       "      <td>GALLO</td>\n",
       "      <td>1330</td>\n",
       "      <td>GALLO 1330</td>\n",
       "      <td>1330 GALLO</td>\n",
       "      <td>4962-9247 / 9248 / 9280</td>\n",
       "      <td>4962-9232</td>\n",
       "      <td>4962-3762</td>\n",
       "      <td>www.guti.gov.ar</td>\n",
       "      <td>C1425EFD</td>\n",
       "      <td>Hospital de niños</td>\n",
       "      <td>PEDIATRIA</td>\n",
       "      <td>AT. AMB./INTERNACION</td>\n",
       "      <td>DIAG./TRATAM.</td>\n",
       "      <td>Ministerio de Salud GCBA</td>\n",
       "      <td>Dra. María Cristina Galoppo</td>\n",
       "    </tr>\n",
       "    <tr>\n",
       "      <th>2</th>\n",
       "      <td>POINT (-58.4027276547828 -34.5845283357505)</td>\n",
       "      <td>4.0</td>\n",
       "      <td>HOSPITAL DE ODONTOLOGIA DR. RAMON CARRILLO (EX...</td>\n",
       "      <td>HOSP. ODONTOLOGICO CARRILLO</td>\n",
       "      <td>HOSPITAL</td>\n",
       "      <td>SANCHEZ DE BUSTAMANTE</td>\n",
       "      <td>2529</td>\n",
       "      <td>SANCHEZ DE BUSTAMANTE 2529</td>\n",
       "      <td>2529 SANCHEZ DE BUSTAMANTE</td>\n",
       "      <td>4805-5521 / 7533</td>\n",
       "      <td>4805-6407</td>\n",
       "      <td>4805-7533</td>\n",
       "      <td>NaN</td>\n",
       "      <td>C1425DUY</td>\n",
       "      <td>Hospital especializado</td>\n",
       "      <td>ODONTOLOGIA</td>\n",
       "      <td>AT. AMBULATORIA</td>\n",
       "      <td>DIAG./TRATAM.</td>\n",
       "      <td>Ministerio de Salud GCBA</td>\n",
       "      <td>Dra. Susana Rita Lisanti</td>\n",
       "    </tr>\n",
       "    <tr>\n",
       "      <th>3</th>\n",
       "      <td>POINT (-58.3851559118889 -34.6394041316484)</td>\n",
       "      <td>6.0</td>\n",
       "      <td>HOSPITAL DE SALUD MENTAL BRAULIO MOYANO</td>\n",
       "      <td>HOSP. MOYANO</td>\n",
       "      <td>HOSPITAL</td>\n",
       "      <td>BRANDSEN</td>\n",
       "      <td>2570</td>\n",
       "      <td>BRANDSEN 2570</td>\n",
       "      <td>2570 BRANDSEN</td>\n",
       "      <td>4301-3655 / 3659</td>\n",
       "      <td>4301-4522</td>\n",
       "      <td>4303-3655/59</td>\n",
       "      <td>www.moyano.org.ar</td>\n",
       "      <td>C1287ABJ</td>\n",
       "      <td>Hospital especializado</td>\n",
       "      <td>SALUD MENTAL</td>\n",
       "      <td>AT. AMB./INTERNACION</td>\n",
       "      <td>DIAG./TRATAM.</td>\n",
       "      <td>Ministerio de Salud GCBA</td>\n",
       "      <td>Dra. Norma Derito</td>\n",
       "    </tr>\n",
       "    <tr>\n",
       "      <th>4</th>\n",
       "      <td>POINT (-58.3913114406535 -34.6341535760002)</td>\n",
       "      <td>7.0</td>\n",
       "      <td>HOSPITAL DE GASTROENTEROLOGIA B. UDAONDO</td>\n",
       "      <td>HOSP. UDAONDO</td>\n",
       "      <td>HOSPITAL</td>\n",
       "      <td>CASEROS</td>\n",
       "      <td>2061</td>\n",
       "      <td>CASEROS AV. 2061</td>\n",
       "      <td>2061 CASEROS AV.</td>\n",
       "      <td>4306-4641 al 4649</td>\n",
       "      <td>4306-4641 al 49 (int. 125)</td>\n",
       "      <td>4306-3013</td>\n",
       "      <td>NaN</td>\n",
       "      <td>C1264AAA</td>\n",
       "      <td>Hospital especializado</td>\n",
       "      <td>ENF. APAR. DIGESTIVO</td>\n",
       "      <td>AT. AMB./INTERNACION</td>\n",
       "      <td>DIAG./TRATAM.</td>\n",
       "      <td>Ministerio de Salud GCBA</td>\n",
       "      <td>Dr. Eduardo Gustavo Sosa</td>\n",
       "    </tr>\n",
       "  </tbody>\n",
       "</table>\n",
       "</div>"
      ],
      "text/plain": [
       "                                           WKT   ID  \\\n",
       "0  POINT (-58.3775508488443 -34.6288473603881)  1.0   \n",
       "1  POINT (-58.4120700769456 -34.5941919726393)  2.0   \n",
       "2  POINT (-58.4027276547828 -34.5845283357505)  4.0   \n",
       "3  POINT (-58.3851559118889 -34.6394041316484)  6.0   \n",
       "4  POINT (-58.3913114406535 -34.6341535760002)  7.0   \n",
       "\n",
       "                                              NOMBRE  \\\n",
       "0        HOSPITAL GENERAL DE NIÑOS PEDRO DE ELIZALDE   \n",
       "1        HOSPITAL GENERAL DE NIÑOS RICARDO GUTIERREZ   \n",
       "2  HOSPITAL DE ODONTOLOGIA DR. RAMON CARRILLO (EX...   \n",
       "3            HOSPITAL DE SALUD MENTAL BRAULIO MOYANO   \n",
       "4           HOSPITAL DE GASTROENTEROLOGIA B. UDAONDO   \n",
       "\n",
       "                       NOM_MAP    OBJETO                    CALLE  ALTURA  \\\n",
       "0            HOSP. DE ELIZALDE  HOSPITAL  MANUEL A. MONTES DE OCA      40   \n",
       "1              HOSP. GUTIERREZ  HOSPITAL                    GALLO    1330   \n",
       "2  HOSP. ODONTOLOGICO CARRILLO  HOSPITAL    SANCHEZ DE BUSTAMANTE    2529   \n",
       "3                 HOSP. MOYANO  HOSPITAL                 BRANDSEN    2570   \n",
       "4                HOSP. UDAONDO  HOSPITAL                  CASEROS    2061   \n",
       "\n",
       "                      DOM_NORMA                       DOM_GEO  \\\n",
       "0  MONTES DE OCA, MANUEL AV. 40  40 MONTES DE OCA, MANUEL AV.   \n",
       "1                    GALLO 1330                    1330 GALLO   \n",
       "2    SANCHEZ DE BUSTAMANTE 2529    2529 SANCHEZ DE BUSTAMANTE   \n",
       "3                 BRANDSEN 2570                 2570 BRANDSEN   \n",
       "4              CASEROS AV. 2061              2061 CASEROS AV.   \n",
       "\n",
       "                  TELEFONO                     GUARDIA           FAX  \\\n",
       "0         4307-5842 / 5844       4307-5442 / 4300-1700     4302-7400   \n",
       "1  4962-9247 / 9248 / 9280                   4962-9232     4962-3762   \n",
       "2         4805-5521 / 7533                   4805-6407     4805-7533   \n",
       "3         4301-3655 / 3659                   4301-4522  4303-3655/59   \n",
       "4        4306-4641 al 4649  4306-4641 al 49 (int. 125)     4306-3013   \n",
       "\n",
       "                   WEB COD_POSTAL                    TIPO  \\\n",
       "0  www.elizalde.gov.ar   C1270AAN       Hospital de niños   \n",
       "1      www.guti.gov.ar   C1425EFD       Hospital de niños   \n",
       "2                  NaN   C1425DUY  Hospital especializado   \n",
       "3    www.moyano.org.ar   C1287ABJ  Hospital especializado   \n",
       "4                  NaN   C1264AAA  Hospital especializado   \n",
       "\n",
       "             TIPO_ESPEC              MOD_AT_1       MOD_AT_2  \\\n",
       "0             PEDIATRIA  AT. AMB./INTERNACION  DIAG./TRATAM.   \n",
       "1             PEDIATRIA  AT. AMB./INTERNACION  DIAG./TRATAM.   \n",
       "2           ODONTOLOGIA       AT. AMBULATORIA  DIAG./TRATAM.   \n",
       "3          SALUD MENTAL  AT. AMB./INTERNACION  DIAG./TRATAM.   \n",
       "4  ENF. APAR. DIGESTIVO  AT. AMB./INTERNACION  DIAG./TRATAM.   \n",
       "\n",
       "                 DEPEND_ADM                     DIRECTOR  \n",
       "0  Ministerio de Salud GCBA            Dr. Javier Indart  \n",
       "1  Ministerio de Salud GCBA  Dra. María Cristina Galoppo  \n",
       "2  Ministerio de Salud GCBA     Dra. Susana Rita Lisanti  \n",
       "3  Ministerio de Salud GCBA            Dra. Norma Derito  \n",
       "4  Ministerio de Salud GCBA     Dr. Eduardo Gustavo Sosa  "
      ]
     },
     "execution_count": 30,
     "metadata": {},
     "output_type": "execute_result"
    }
   ],
   "source": [
    "df.head()"
   ]
  },
  {
   "cell_type": "code",
   "execution_count": 31,
   "metadata": {},
   "outputs": [],
   "source": [
    "label = df['NOM_MAP']\n",
    "name = df['DOM_NORMA']"
   ]
  },
  {
   "cell_type": "code",
   "execution_count": 36,
   "metadata": {},
   "outputs": [
    {
     "data": {
      "text/plain": [
       "['MONTES DE OCA, MANUEL AV. 40',\n",
       " 'GALLO 1330',\n",
       " 'SANCHEZ DE BUSTAMANTE 2529',\n",
       " 'BRANDSEN 2570',\n",
       " 'CASEROS AV. 2061',\n",
       " 'DIAZ VELEZ AV. 4821',\n",
       " 'FINOCHIETTO ENRIQUE DR. 849',\n",
       " 'CARRILLO, RAMON, DR. 315',\n",
       " 'CARRILLO, RAMON, DR. 375',\n",
       " 'DON PEDRO DE MENDOZA AV. 1795',\n",
       " 'ECHEVERRIA 955',\n",
       " 'LUCA, ESTEBAN DE 2151',\n",
       " 'JUSTO, JUAN B. AV. 4151',\n",
       " 'MUÑIZ 15',\n",
       " 'PATRICIAS ARGENTINAS AV. 150',\n",
       " 'GOYENA, PEDRO AV. 369',\n",
       " 'SAN JUAN AV. 2021',\n",
       " 'SEGUROLA AV. 1949',\n",
       " 'USPALLATA 2272',\n",
       " 'WARNES AV. 2630',\n",
       " 'LAS HERAS GENERAL AV. 2670',\n",
       " 'PI Y MARGALL 750',\n",
       " 'CERVIÑO AV. 3356',\n",
       " 'DIAZ VELEZ AV. 5044',\n",
       " 'ARANGUREN, JUAN F., DR. 2701',\n",
       " 'URQUIZA, GRAL. 609',\n",
       " 'MONROE AV. 3555',\n",
       " 'NUEVA YORK 3952',\n",
       " 'CALDERON DE LA BARCA, PEDRO 1550',\n",
       " 'PILAR 950',\n",
       " 'CHUTRO, PEDRO, PROF., DR. 3380',\n",
       " 'COMBATIENTES DE MALVINAS AV. 3002',\n",
       " 'VARELA AV. 1301',\n",
       " 'FERNANDEZ DE LA CRUZ, F., GRAL. 4402',\n",
       " 'COMBATE DE LOS POZOS 1881',\n",
       " 'SUAREZ AV. 2215']"
      ]
     },
     "execution_count": 36,
     "metadata": {},
     "output_type": "execute_result"
    }
   ],
   "source": [
    "name.to_list()"
   ]
  },
  {
   "cell_type": "code",
   "execution_count": 35,
   "metadata": {},
   "outputs": [
    {
     "name": "stdout",
     "output_type": "stream",
     "text": [
      "{'latitud': [-34.6288473603881, -34.5941919726393, -34.5845283357505, -34.6394041316484, -34.6341535760002, -34.6084721257413, -34.6302112044495, -34.6357022351559, -34.6364350546569, -34.6388917320834, -34.5538963316473, -34.634856308415, -34.6054342750207, -34.6146348348429, -34.6070507603866, -34.6255031952483, -34.6227125075124, -34.6179817540591, -34.6375293258416, -34.5972098729151, -34.5847659581214, -34.6283448581677, -34.581141710889, -34.6089728538414, -34.6241704940114, -34.6176598438607, -34.565051956568, -34.599979524264, -34.6253367952668, -34.6491867281064, -34.6431172591975, -34.5873917690227, -34.643894071866, -34.6718480140772, -34.6299453614404, -34.6419888014928], 'longitud': [-58.3775508488443, -58.4120700769456, -58.4027276547828, -58.3851559118889, -58.3913114406535, -58.4349433479819, -58.3758433488021, -58.3823284509488, -58.3821283746958, -58.3601201271455, -58.4409882382439, -58.4027506275377, -58.4601855775528, -58.4276597542837, -58.4332484381295, -58.4323966950244, -58.3940641604746, -58.5021449222222, -58.3937269413225, -58.4752588459761, -58.4005134574423, -58.365985088719, -58.4068939142787, -58.437981361705, -58.4695020363265, -58.4096107488155, -58.4710781593251, -58.5110525000569, -58.50761514092, -58.5156291936709, -58.4108602188291, -58.4710976282168, -58.4541167814714, -58.4566428491103, -58.3918791813882, -58.3814293381891], 'name': ['MONTES DE OCA, MANUEL AV. 40', 'GALLO 1330', 'SANCHEZ DE BUSTAMANTE 2529', 'BRANDSEN 2570', 'CASEROS AV. 2061', 'DIAZ VELEZ AV. 4821', 'FINOCHIETTO ENRIQUE DR. 849', 'CARRILLO, RAMON, DR. 315', 'CARRILLO, RAMON, DR. 375', 'DON PEDRO DE MENDOZA AV. 1795', 'ECHEVERRIA 955', 'LUCA, ESTEBAN DE 2151', 'JUSTO, JUAN B. AV. 4151', 'MUÑIZ 15', 'PATRICIAS ARGENTINAS AV. 150', 'GOYENA, PEDRO AV. 369', 'SAN JUAN AV. 2021', 'SEGUROLA AV. 1949', 'USPALLATA 2272', 'WARNES AV. 2630', 'LAS HERAS GENERAL AV. 2670', 'PI Y MARGALL 750', 'CERVIÑO AV. 3356', 'DIAZ VELEZ AV. 5044', 'ARANGUREN, JUAN F., DR. 2701', 'URQUIZA, GRAL. 609', 'MONROE AV. 3555', 'NUEVA YORK 3952', 'CALDERON DE LA BARCA, PEDRO 1550', 'PILAR 950', 'CHUTRO, PEDRO, PROF., DR. 3380', 'COMBATIENTES DE MALVINAS AV. 3002', 'VARELA AV. 1301', 'FERNANDEZ DE LA CRUZ, F., GRAL. 4402', 'COMBATE DE LOS POZOS 1881', 'SUAREZ AV. 2215'], 'label': ['HOSP. DE ELIZALDE', 'HOSP. GUTIERREZ', 'HOSP. ODONTOLOGICO CARRILLO', 'HOSP. MOYANO', 'HOSP. UDAONDO', 'INST. PASTEUR', 'HOSP. FERRER', 'HOSP. TOBAR GARCIA', 'HOSP. BORDA', 'HOSP. ODONTOLOGICO INFANTIL QUINQUELA MARTIN', 'INST. DE REHAB. PSICOFISICA', 'HOSP. SARDA', 'HOSP. LAGLEYZE', 'HOSP. ODONTOLOGICO DUEÑAS', 'HOSP. CURIE', 'HOSP. DE QUEMADOS A. U. ILLIA', 'HOSP. SANTA LUCIA', 'HOSP. DE REHAB. ROCCA', 'HOSP. MUÑIZ', 'HOSP. T. DE ALVEAR', 'HOSP. RIVADAVIA', 'HOSP. ARGERICH', 'HOSP. FERNANDEZ', 'HOSP. DURAND', 'HOSP. ALVAREZ', 'HOSP. RAMOS MEJIA', 'HOSP. PIROVANO', 'HOSP. ZUBIZARRETA', 'HOSP. VELEZ SARSFIELD', 'HOSP. SANTOJANNI', 'HOSP. PENNA', 'HOSP. TORNU', 'HOSP. PIÑERO', 'HOSP. GRIERSON', 'HOSP. GARRAHAN', 'TALLERES DE REHAB. PSIQUIATRICA']}\n"
     ]
    }
   ],
   "source": [
    "dicc = {'latitud':latitude,\n",
    "        'longitud':longitude,\n",
    "        'name':name.to_list(),\n",
    "        'label':label.to_list()}\n",
    "print(dicc)"
   ]
  },
  {
   "cell_type": "code",
   "execution_count": 41,
   "metadata": {},
   "outputs": [],
   "source": [
    "df_salida = pd.DataFrame(data=dicc)\n",
    "df_salida.to_csv('datasets/salida.csv', index=False)"
   ]
  },
  {
   "cell_type": "code",
   "execution_count": 47,
   "metadata": {},
   "outputs": [
    {
     "data": {
      "text/html": [
       "<div>\n",
       "<style scoped>\n",
       "    .dataframe tbody tr th:only-of-type {\n",
       "        vertical-align: middle;\n",
       "    }\n",
       "\n",
       "    .dataframe tbody tr th {\n",
       "        vertical-align: top;\n",
       "    }\n",
       "\n",
       "    .dataframe thead th {\n",
       "        text-align: right;\n",
       "    }\n",
       "</style>\n",
       "<table border=\"1\" class=\"dataframe\">\n",
       "  <thead>\n",
       "    <tr style=\"text-align: right;\">\n",
       "      <th></th>\n",
       "      <th>latitud</th>\n",
       "      <th>longitud</th>\n",
       "      <th>name</th>\n",
       "      <th>label</th>\n",
       "    </tr>\n",
       "  </thead>\n",
       "  <tbody>\n",
       "    <tr>\n",
       "      <th>0</th>\n",
       "      <td>-34.628847</td>\n",
       "      <td>-58.377551</td>\n",
       "      <td>MONTES DE OCA, MANUEL AV. 40</td>\n",
       "      <td>HOSP. DE ELIZALDE</td>\n",
       "    </tr>\n",
       "    <tr>\n",
       "      <th>1</th>\n",
       "      <td>-34.594192</td>\n",
       "      <td>-58.412070</td>\n",
       "      <td>GALLO 1330</td>\n",
       "      <td>HOSP. GUTIERREZ</td>\n",
       "    </tr>\n",
       "    <tr>\n",
       "      <th>2</th>\n",
       "      <td>-34.584528</td>\n",
       "      <td>-58.402728</td>\n",
       "      <td>SANCHEZ DE BUSTAMANTE 2529</td>\n",
       "      <td>HOSP. ODONTOLOGICO CARRILLO</td>\n",
       "    </tr>\n",
       "    <tr>\n",
       "      <th>3</th>\n",
       "      <td>-34.639404</td>\n",
       "      <td>-58.385156</td>\n",
       "      <td>BRANDSEN 2570</td>\n",
       "      <td>HOSP. MOYANO</td>\n",
       "    </tr>\n",
       "    <tr>\n",
       "      <th>4</th>\n",
       "      <td>-34.634154</td>\n",
       "      <td>-58.391311</td>\n",
       "      <td>CASEROS AV. 2061</td>\n",
       "      <td>HOSP. UDAONDO</td>\n",
       "    </tr>\n",
       "  </tbody>\n",
       "</table>\n",
       "</div>"
      ],
      "text/plain": [
       "     latitud   longitud                          name  \\\n",
       "0 -34.628847 -58.377551  MONTES DE OCA, MANUEL AV. 40   \n",
       "1 -34.594192 -58.412070                    GALLO 1330   \n",
       "2 -34.584528 -58.402728    SANCHEZ DE BUSTAMANTE 2529   \n",
       "3 -34.639404 -58.385156                 BRANDSEN 2570   \n",
       "4 -34.634154 -58.391311              CASEROS AV. 2061   \n",
       "\n",
       "                         label  \n",
       "0            HOSP. DE ELIZALDE  \n",
       "1              HOSP. GUTIERREZ  \n",
       "2  HOSP. ODONTOLOGICO CARRILLO  \n",
       "3                 HOSP. MOYANO  \n",
       "4                HOSP. UDAONDO  "
      ]
     },
     "execution_count": 47,
     "metadata": {},
     "output_type": "execute_result"
    }
   ],
   "source": [
    "df2 = pd.read_csv(r'datasets\\salida.csv')\n",
    "df2.head()  "
   ]
  },
  {
   "cell_type": "code",
   "execution_count": null,
   "metadata": {},
   "outputs": [],
   "source": [
    "df.to_sql()     "
   ]
  },
  {
   "cell_type": "code",
   "execution_count": 50,
   "metadata": {},
   "outputs": [],
   "source": [
    "#Se introduce el módulo CSV para resolverlo\n",
    "import csv\n",
    "tabla = csv.reader( open('datasets/hospitales2.csv', encoding = 'utf-8'))\n",
    "with open('datasets/salida2.csv', 'w', encoding='utf-8', newline='') as salida:\n",
    "    salida_writer = csv.writer(salida)\n",
    "    next(tabla)\n",
    "    salida_writer.writerow(['latitude','longitude','name','label'])\n",
    "    for linea in tabla:\n",
    "        coordenadas = linea[0][7:-1].split()\n",
    "        salida_writer.writerow([coordenadas[1], coordenadas[0], linea[3], linea[8]])\n"
   ]
  },
  {
   "cell_type": "code",
   "execution_count": 4,
   "metadata": {},
   "outputs": [],
   "source": [
    "class Estructura_pila(object):\n",
    "    def __init__(self):\n",
    "        self.__list = []\n",
    "\n",
    "    # Agregar un elemento\n",
    "    def push(self, item):\n",
    "        self.__list.append(item)\n",
    "    \n",
    "    # Quitar un elemento de la pila\n",
    "    def pop(self):\n",
    "        return self.__list.pop()\n",
    "    \n",
    "    # Obtener el elemento superior de la pila\n",
    "    def peek(self):\n",
    "        if self.__list:\n",
    "            return self.__list[-1]                  # Devuelve el ultimo de la pila\n",
    "        else:\n",
    "            return None\n",
    "    \n",
    "    # Preguntar si la lista esta vacia\n",
    "    def is_empty(self):\n",
    "        if self.__list == []:\n",
    "            return True\n",
    "        else:\n",
    "            return False\n",
    "    \n",
    "    # Numero de elementos de la pila\n",
    "    def size(self):\n",
    "        return len(self.__list)"
   ]
  },
  {
   "cell_type": "code",
   "execution_count": 5,
   "metadata": {},
   "outputs": [
    {
     "data": {
      "text/plain": [
       "True"
      ]
     },
     "execution_count": 5,
     "metadata": {},
     "output_type": "execute_result"
    }
   ],
   "source": [
    "p = Estructura_pila()\n",
    "p.is_empty()"
   ]
  },
  {
   "cell_type": "code",
   "execution_count": 6,
   "metadata": {},
   "outputs": [
    {
     "data": {
      "text/plain": [
       "False"
      ]
     },
     "execution_count": 6,
     "metadata": {},
     "output_type": "execute_result"
    }
   ],
   "source": [
    "p.push(1)\n",
    "p.push(2)\n",
    "p.push(3)\n",
    "p.is_empty()"
   ]
  },
  {
   "cell_type": "code",
   "execution_count": 7,
   "metadata": {},
   "outputs": [
    {
     "data": {
      "text/plain": [
       "3"
      ]
     },
     "execution_count": 7,
     "metadata": {},
     "output_type": "execute_result"
    }
   ],
   "source": [
    "p.size()"
   ]
  },
  {
   "cell_type": "code",
   "execution_count": 14,
   "metadata": {},
   "outputs": [],
   "source": [
    "p.peek()"
   ]
  },
  {
   "cell_type": "code",
   "execution_count": 15,
   "metadata": {},
   "outputs": [
    {
     "ename": "IndexError",
     "evalue": "pop from empty list",
     "output_type": "error",
     "traceback": [
      "\u001b[1;31m---------------------------------------------------------------------------\u001b[0m",
      "\u001b[1;31mIndexError\u001b[0m                                Traceback (most recent call last)",
      "Cell \u001b[1;32mIn[15], line 1\u001b[0m\n\u001b[1;32m----> 1\u001b[0m p\u001b[39m.\u001b[39;49mpop()\n",
      "Cell \u001b[1;32mIn[4], line 11\u001b[0m, in \u001b[0;36mEstructura_pila.pop\u001b[1;34m(self)\u001b[0m\n\u001b[0;32m     10\u001b[0m \u001b[39mdef\u001b[39;00m \u001b[39mpop\u001b[39m(\u001b[39mself\u001b[39m):\n\u001b[1;32m---> 11\u001b[0m     \u001b[39mreturn\u001b[39;00m \u001b[39mself\u001b[39;49m\u001b[39m.\u001b[39;49m__list\u001b[39m.\u001b[39;49mpop()\n",
      "\u001b[1;31mIndexError\u001b[0m: pop from empty list"
     ]
    }
   ],
   "source": [
    "p.pop()"
   ]
  },
  {
   "cell_type": "code",
   "execution_count": 16,
   "metadata": {},
   "outputs": [],
   "source": [
    "class Estructura_cola(object):\n",
    "    def __init__(self):\n",
    "        self.__list = []\n",
    "\n",
    "    # Agregar un elemento\n",
    "    def enqueue(self, item):\n",
    "        self.__list.append(item)\n",
    "\n",
    "    # Quitar un elemento \n",
    "    def dequeue(self):\n",
    "        return self.__list.pop(0)\n",
    "\n",
    "    # Obtener el proximo elemento a eliminar\n",
    "    def first(self):\n",
    "        if self.__list != []:\n",
    "            return self.__list[0]\n",
    "        else:\n",
    "            return None\n",
    "\n",
    "    # Verificar si esta vacia\n",
    "    def is_empty(self):\n",
    "        return self.__list == []\n",
    "\n",
    "    # Devolver la cantidad de elementos\n",
    "    def size(self):\n",
    "        return len(self.__list)"
   ]
  },
  {
   "cell_type": "code",
   "execution_count": 18,
   "metadata": {},
   "outputs": [
    {
     "data": {
      "text/plain": [
       "True"
      ]
     },
     "execution_count": 18,
     "metadata": {},
     "output_type": "execute_result"
    }
   ],
   "source": [
    "q = Estructura_cola()\n",
    "\n",
    "q.is_empty()"
   ]
  },
  {
   "cell_type": "code",
   "execution_count": 20,
   "metadata": {},
   "outputs": [
    {
     "data": {
      "text/plain": [
       "False"
      ]
     },
     "execution_count": 20,
     "metadata": {},
     "output_type": "execute_result"
    }
   ],
   "source": [
    "q.enqueue(1)\n",
    "q.enqueue(2)\n",
    "q.enqueue(3)\n",
    "q.is_empty()"
   ]
  },
  {
   "cell_type": "code",
   "execution_count": 25,
   "metadata": {},
   "outputs": [
    {
     "data": {
      "text/plain": [
       "3"
      ]
     },
     "execution_count": 25,
     "metadata": {},
     "output_type": "execute_result"
    }
   ],
   "source": [
    "q.first()"
   ]
  },
  {
   "cell_type": "code",
   "execution_count": 26,
   "metadata": {},
   "outputs": [
    {
     "data": {
      "text/plain": [
       "3"
      ]
     },
     "execution_count": 26,
     "metadata": {},
     "output_type": "execute_result"
    }
   ],
   "source": [
    "q.dequeue()"
   ]
  },
  {
   "cell_type": "code",
   "execution_count": 27,
   "metadata": {},
   "outputs": [],
   "source": [
    "for nro in range(101):\n",
    "    q.enqueue(nro)"
   ]
  },
  {
   "cell_type": "code",
   "execution_count": 28,
   "metadata": {},
   "outputs": [
    {
     "data": {
      "text/plain": [
       "101"
      ]
     },
     "execution_count": 28,
     "metadata": {},
     "output_type": "execute_result"
    }
   ],
   "source": [
    "q.size()"
   ]
  },
  {
   "cell_type": "code",
   "execution_count": 29,
   "metadata": {},
   "outputs": [
    {
     "name": "stdout",
     "output_type": "stream",
     "text": [
      "0\n",
      "1\n",
      "2\n",
      "3\n",
      "4\n",
      "5\n",
      "6\n",
      "7\n",
      "8\n",
      "9\n",
      "10\n",
      "11\n",
      "12\n",
      "13\n",
      "14\n",
      "15\n",
      "16\n",
      "17\n",
      "18\n",
      "19\n",
      "20\n",
      "21\n",
      "22\n",
      "23\n",
      "24\n",
      "25\n",
      "26\n",
      "27\n",
      "28\n",
      "29\n",
      "30\n",
      "31\n",
      "32\n",
      "33\n",
      "34\n",
      "35\n",
      "36\n",
      "37\n",
      "38\n",
      "39\n",
      "40\n",
      "41\n",
      "42\n",
      "43\n",
      "44\n",
      "45\n",
      "46\n",
      "47\n",
      "48\n",
      "49\n",
      "50\n",
      "51\n",
      "52\n",
      "53\n",
      "54\n",
      "55\n",
      "56\n",
      "57\n",
      "58\n",
      "59\n",
      "60\n",
      "61\n",
      "62\n",
      "63\n",
      "64\n",
      "65\n",
      "66\n",
      "67\n",
      "68\n",
      "69\n",
      "70\n",
      "71\n",
      "72\n",
      "73\n",
      "74\n",
      "75\n",
      "76\n",
      "77\n",
      "78\n",
      "79\n",
      "80\n",
      "81\n",
      "82\n",
      "83\n",
      "84\n",
      "85\n",
      "86\n",
      "87\n",
      "88\n",
      "89\n",
      "90\n",
      "91\n",
      "92\n",
      "93\n",
      "94\n",
      "95\n",
      "96\n",
      "97\n",
      "98\n",
      "99\n",
      "100\n"
     ]
    }
   ],
   "source": [
    "for nro in range(101):\n",
    "    print(q.dequeue())"
   ]
  },
  {
   "cell_type": "code",
   "execution_count": 30,
   "metadata": {},
   "outputs": [
    {
     "data": {
      "text/plain": [
       "\"# Now we can process each item in the queue by dequeueing them\\nkey_pressed = input_queue.dequeue() # 'DOWN'\\n# We'll probably change our player position\\nkey_pressed = input_queue.dequeue() # 'RIGHT'\\n# We'll change the player's position again and keep track of a potential special move to perform\\nkey_pressed = input_queue.dequeue() # 'B'\\n# This can do the act, but the game's logic will know to do the special move\""
      ]
     },
     "execution_count": 30,
     "metadata": {},
     "output_type": "execute_result"
    }
   ],
   "source": [
    "input_queue = Estructura_cola()\n",
    "# The player wants to get the upper hand so pressing the right combination of buttons quickly\n",
    "input_queue.enqueue('DOWN')\n",
    "input_queue.enqueue('RIGHT')\n",
    "input_queue.enqueue('B')\n",
    "\n",
    "\"\"\"# Now we can process each item in the queue by dequeueing them\n",
    "key_pressed = input_queue.dequeue() # 'DOWN'\n",
    "# We'll probably change our player position\n",
    "key_pressed = input_queue.dequeue() # 'RIGHT'\n",
    "# We'll change the player's position again and keep track of a potential special move to perform\n",
    "key_pressed = input_queue.dequeue() # 'B'\n",
    "# This can do the act, but the game's logic will know to do the special move\"\"\""
   ]
  },
  {
   "cell_type": "code",
   "execution_count": 33,
   "metadata": {},
   "outputs": [
    {
     "data": {
      "text/plain": [
       "'B'"
      ]
     },
     "execution_count": 33,
     "metadata": {},
     "output_type": "execute_result"
    }
   ],
   "source": [
    "input_queue.dequeue()"
   ]
  },
  {
   "cell_type": "code",
   "execution_count": 34,
   "metadata": {},
   "outputs": [],
   "source": [
    "document_actions = Estructura_pila()\n",
    "# Primero introducimos el título del documento\n",
    "v1 = document_actions.push('Acción: enter; text_id: 1; text: Este es mi documento favorito')\n",
    "# Luego centramos el texto\n",
    "v2 = document_actions.push('Acción: format; text_id: 1; alignment: center')\n",
    "# Y luego borramos el alineamiento, porque a los usuarios no les gustó como quedó. Deshacemos ese cambio\n",
    "v3 = document_actions.pop()\n",
    "# El título queda mejor a la izquierda y con una fuente en negrita o \"bold\"\n",
    "v4 = document_actions.push('Acción: format; text_id: 1; style: bold')"
   ]
  },
  {
   "cell_type": "code",
   "execution_count": 38,
   "metadata": {},
   "outputs": [
    {
     "name": "stdout",
     "output_type": "stream",
     "text": [
      "Acción: enter; text_id: 1; text: Este es mi documento favorito\n",
      "Acción: format; text_id: 1; alignment: center\n",
      "El usuario hizo CTL+Z y se elimino: Acción: format; text_id: 1; alignment: center\n",
      "Acción: format; text_id: 1; style: bold\n"
     ]
    }
   ],
   "source": [
    "print('Acción: enter; text_id: 1; text: Este es mi documento favorito')\n",
    "print('Acción: format; text_id: 1; alignment: center')\n",
    "print(f'El usuario hizo CTL+Z y se elimino: {v3}')\n",
    "print('Acción: format; text_id: 1; style: bold')"
   ]
  }
 ],
 "metadata": {
  "kernelspec": {
   "display_name": "Python 3.11.3 64-bit",
   "language": "python",
   "name": "python3"
  },
  "language_info": {
   "codemirror_mode": {
    "name": "ipython",
    "version": 3
   },
   "file_extension": ".py",
   "mimetype": "text/x-python",
   "name": "python",
   "nbconvert_exporter": "python",
   "pygments_lexer": "ipython3",
   "version": "3.11.3"
  },
  "orig_nbformat": 4,
  "vscode": {
   "interpreter": {
    "hash": "52634da84371cba311ea128a5ea7cdc41ff074b781779e754b270ff9f8153cee"
   }
  }
 },
 "nbformat": 4,
 "nbformat_minor": 2
}
