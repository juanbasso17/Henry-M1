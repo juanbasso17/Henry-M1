{
 "cells": [
  {
   "cell_type": "markdown",
   "metadata": {},
   "source": [
    "# Práctica Clase 5"
   ]
  },
  {
   "cell_type": "markdown",
   "metadata": {},
   "source": [
    "1) Implementar un juego, que consista en apilar números enteros del 1 al 20, de forma aleatoria, para lo cual debe usarse una estructura de Pila. \n",
    "Luego, el usuario debe elegir un número de veces en que se va a quitar elementos de la pila, los cuales, sumados entre sí, no deben superar el valor de 50.\n",
    "El usuario pierde si la suma supera ese valor. Si no lo supera, gana, pero su calificación será 10 menos el número elementos que falten quitar para todavía no superar 50.\n",
    "El programa debe informar si perdió, y si ganó, con qué calificación lo hizo.\n",
    "\n",
    "Consideraciones:<br>\n",
    "a. Se puede usar la función input() para obtener una entrada de teclado.<br>\n",
    "b. Se puede usar la el modulo random para obtener valores aleatorios."
   ]
  },
  {
   "cell_type": "code",
   "execution_count": 20,
   "metadata": {},
   "outputs": [
    {
     "data": {
      "text/plain": [
       "16"
      ]
     },
     "execution_count": 20,
     "metadata": {},
     "output_type": "execute_result"
    }
   ],
   "source": [
    "import random\n",
    "random.randint(1,20)"
   ]
  },
  {
   "cell_type": "code",
   "execution_count": null,
   "metadata": {},
   "outputs": [],
   "source": [
    "import random\n",
    "\n",
    "class juegoPila(object):\n",
    "    def __init__(self):\n",
    "        self.__list = []\n",
    "        # Rellenar la pila con números del 1 al 20\n",
    "        while len(self.__list) < 20:\n",
    "            numero = random.randint(1,20)\n",
    "            if numero not in self.__list:\n",
    "                self.__list.append(numero)\n",
    "    \n",
    "    # Quitar el ultimo elemento de la pila\n",
    "    def __pop(self):\n",
    "        return self.__list.pop()\n",
    "\n",
    "    # Mostrar la pila\n",
    "    def __mostrar(self):\n",
    "        if len(self.__list) > 0:\n",
    "            for item in self.__list:\n",
    "                print(item)\n",
    "        else:\n",
    "            print('No hay elementos')\n",
    "\n",
    "    def jugar(self):\n",
    "        # Empieza el juego\n",
    "\n",
    "        while True:\n",
    "            nro = input('Ingrese la cantidad de elementos a sacar: ')   # Le pedimos al usuario que ingrese cantidad de elementos, type(str)\n",
    "\n",
    "            if not nro.isdecimal():     # Devuelve True o False, si el str se puede convertir a int\n",
    "                nro = input('Ingresar la cantidad de elementos en numerico(int): ')\n",
    "            elif nro.isdecimal():\n",
    "                nro = int(nro)\n",
    "                break\n",
    "        \n",
    "        # Empiezal a acción!!!!\n",
    "        print('Pila original: ')\n",
    "        self.__mostrar()\n",
    "\n",
    "        calificacion = 10                           # Para calcular la califiacion\n",
    "        suma = 0                                    # Para sumar los elementos\n",
    "\n",
    "        for i in range(nro):\n",
    "            suma += self.__pop()\n",
    "        \n",
    "        print('Pila obtenida: ')\n",
    "        self.__mostrar()\n",
    "\n",
    "        print(f'Se suma la cantidad total de: {suma}')\n",
    "\n",
    "        if suma > 50:                                           # Si la suma es mayor a 50, significa que el usuario perdio\n",
    "            print('No cumpliste con el objetivo, perdiste D:')\n",
    "        else:                                                   # Si no super la suma de 50, gano asi que debemos calcular la calificacion\n",
    "            while suma <= 50:                                   # Mientras que la suma no supere los 50, se va a repetir este ciclo\n",
    "                suma += self.__pop()                            # Quitamos un elemento y lo sumamos a lo que ya teniamos\n",
    "                if suma <= 50:                                  # Si suma sigue sin llegar a 50:\n",
    "                    calificacion -= 1                           # Calificacion va bajando en 1 por cada iteracion\n",
    "        \n",
    "        print(f'OBJETIVO CUMPLIDO!!!! FELICITACIONES :D TU PUNTAJE FUE DE: {calificacion}')"
   ]
  },
  {
   "cell_type": "code",
   "execution_count": 29,
   "metadata": {},
   "outputs": [],
   "source": [
    "while True:\n",
    "    nro = input('Ingrese la cantidad de elementos a sacar: ')   # Le pedimos al usuario que ingrese cantidad de elementos, type(str)\n",
    "\n",
    "    if not nro.isdecimal():     # Devuelve True o False, si el str se puede convertir a int\n",
    "        nro = input('Ingresar la cantidad de elementos en numerico(int): ')\n",
    "    else:\n",
    "        nro = int(nro)\n",
    "        break"
   ]
  },
  {
   "cell_type": "markdown",
   "metadata": {},
   "source": [
    "2) Implementar un juego donde constas de 2 jarras, de capacidad 5 y 3 litros respectivamente, y debes colocar 4 litros en la jarra de 5L.\n",
    "Las opciones posibles son:\n",
    "* Llenar la jarra de 3 litros\n",
    "* Llenar la jarra de 5 litros\n",
    "* Vaciar la jarra de 3 litros\n",
    "* Vaciar la jarra de 5 litros\n",
    "* Verter el contenido de la jarra de 3 litros en la de 5 litros\n",
    "* Verter el contenido de la jarra de 5 litros en la de 3 litros"
   ]
  },
  {
   "cell_type": "code",
   "execution_count": 1,
   "metadata": {},
   "outputs": [],
   "source": [
    "class Jarra():\n",
    "    def __init__(self, cap):\n",
    "        self.__elemento_agua = '*'\n",
    "        self.__elemento_vacio = ' '\n",
    "        self.__capacidad = cap\n",
    "        self.__list = []\n",
    "        i = 0\n",
    "        while i < cap:\n",
    "            self.__list.append(self.__elemento_vacio)\n",
    "            i += 1\n",
    "    \n",
    "    def vaciar(self):\n",
    "        i = 0\n",
    "        while i < self.__capacidad:\n",
    "            self.__list[i] = self.__elemento_vacio\n",
    "            i += 1\n",
    "\n",
    "    def llenar(self):\n",
    "        i = 0\n",
    "        while i < self.__capacidad:\n",
    "            self.__list[i] = self.__elemento_agua\n",
    "            i += 1\n",
    "    \n",
    "    def mostrar_jarra(self):\n",
    "        print(f'Jarra de {self.__capacidad} litros')\n",
    "        for elemento in self.__list:\n",
    "            print('|',elemento,'|')\n",
    "        print('-----')\n",
    "    \n",
    "    def cantidad_litros(self):\n",
    "        cantidad = 0\n",
    "        for elemento in self.__list:\n",
    "            if elemento == self.__elemento_agua:\n",
    "                cantidad += 1\n",
    "        return cantidad\n",
    "    \n",
    "\n",
    "    def quitar_litros(self, litros):\n",
    "        i = 0\n",
    "        encontrado = False\n",
    "\n",
    "        while not encontrado:    # encontrado = False\n",
    "            if (self.__list[i] == self.__elemento_agua):\n",
    "                encontrado = True\n",
    "            i += 1\n",
    "        \n",
    "        i -= 1\n",
    "        while litros > 0:\n",
    "            self.__list[i] = self.__elemento_vacio\n",
    "            i += i\n",
    "            litros -= 1\n",
    "\n",
    "    def agregar_litros(self, litros):\n",
    "        i = 0\n",
    "\n",
    "        while ((i < self.__capacidad) and (self.__list[i] == self.__elemento_vacio)):\n",
    "            i += 1\n",
    "        while litros > 0:\n",
    "            i -= 1\n",
    "            self.__list[i] == self.__elemento_agua\n",
    "            litros -= 1\n",
    "\n",
    "\n",
    "class JuegoJarra():\n",
    "    def __init__(self):\n",
    "        self.__j3L = Jarra(3)\n",
    "        self.__j5L = Jarra(5)\n",
    "        self.__opciones_validas = ['1','2','3','4','5','6','7']\n",
    "\n",
    "\n",
    "    def jugar(self):\n",
    "        nro = 0\n",
    "        counter = 0\n",
    "\n",
    "        while nro < 7:\n",
    "            print('JUEGO DE LAS JARRAS !!!:')\n",
    "            print('************************************')\n",
    "            print('1- LLenar la jarra de 3L')\n",
    "            print('2- Llenar la jarra de 5L')\n",
    "            print('3- Vacia la jarra de 3L')\n",
    "            print('4- Vaciar la jarra de 5L')\n",
    "            print('5- Verter el contenido de la jarra de 3L en la de 5L')\n",
    "            print('6- Verter el contenido de la jarra de 5L en la de 3L')\n",
    "            print('7- SALIR')\n",
    "            print('************************************')\n",
    "            \n",
    "\n",
    "            self.__j3L.mostrar_jarra()\n",
    "            self.__j5L.mostrar_jarra()\n",
    "            print('************************************')\n",
    "            nro = input('Ingrese una opcion: ')                     # Se le pide al usuario que elija una opcion\n",
    "            counter += 1                                            # Nuestro contador contabiliza la cantidad de jugadas\n",
    "            if nro not in self.__opciones_validas:\n",
    "                nro = 0\n",
    "            else:\n",
    "                nro = int(nro) \n",
    "\n",
    "            if nro == 1:\n",
    "                self.__j3L.llenar()\n",
    "            elif nro == 2:\n",
    "                self.__j5L.llenar()\n",
    "            elif nro == 3:\n",
    "                self.__j3L.vaciar()\n",
    "            elif nro == 4:\n",
    "                self.__j5L.vaciar()\n",
    "            elif nro == 5:\n",
    "                jarra3L = self.__j3L.cantidad_litros()\n",
    "                jarra5L = self.__j5L.cantidad_litros()\n",
    "                disponible_5L = 5 - jarra5L\n",
    "\n",
    "                if disponible_5L < jarra3L:\n",
    "                    intercambio = disponible_5L\n",
    "                else:\n",
    "                    intercambio = jarra3L\n",
    "\n",
    "                self.__j3L.quitar_litros(intercambio)\n",
    "                self.__j5L.agregar_litros(intercambio)\n",
    "            \n",
    "            elif nro == 6:\n",
    "                jarra3L = self.__j3L.cantidad_litros()\n",
    "                jarra5L = self.__j5L.cantidad_litros()\n",
    "                disponible_3L = 3 - jarra3L\n",
    "\n",
    "                if disponible_3L < jarra5L:\n",
    "                    intercambio = disponible_3L\n",
    "                else:\n",
    "                    intercambio = jarra5L\n",
    "                \n",
    "                self.__j5L.quitar_litros(intercambio)\n",
    "                self.__j3L.agregar_litros(intercambio)\n",
    "            elif nro == 7:\n",
    "                exit()\n",
    "\n",
    "            if (self.__j5L.cantidad_litros() == 4):\n",
    "                print(f'FELICIDADES !!! TU PUNTAJE ES DE: {100 - counter * 10}')\n",
    "                print('*************************************')\n",
    "                self.__j3L.mostrar_jarra()\n",
    "                self.__j5L.mostrar_jarra()              # Aca tienen que haber 4 Lts (****)\n",
    "                print('**************************')\n",
    "                print('1- Jugar de nuevo')\n",
    "                print('2- Terminar')\n",
    "                nro = input('Ingrese una opcion: ')\n",
    "                if nro not in self.__opciones_validas:\n",
    "                    nro = 0\n",
    "                else:\n",
    "                    nro = int(nro)\n",
    "                    if nro == 1:\n",
    "                        self.__j3L.vaciar()\n",
    "                        self.__j5L.vaciar()\n",
    "                    elif nro == 2:\n",
    "                        exit()\n",
    "                    "
   ]
  },
  {
   "cell_type": "code",
   "execution_count": null,
   "metadata": {},
   "outputs": [],
   "source": [
    "lista = ['a','b','c']\n",
    "\n",
    "lista_enlazada = [['dato',next],['datob',next],['datoc',next]]"
   ]
  },
  {
   "cell_type": "code",
   "execution_count": 12,
   "metadata": {},
   "outputs": [],
   "source": [
    "class Node:\n",
    "    def __init__(self, val):\n",
    "        self.data = val\n",
    "        self.next = None\n",
    "\n",
    "    def getData(self):\n",
    "        return self.data\n",
    "\n",
    "    def getNext(self):\n",
    "        return self.next\n",
    "\n",
    "    def setData(self, val):\n",
    "        self.data = val\n",
    "\n",
    "    def setNext(self, val):\n",
    "        self.next = val"
   ]
  },
  {
   "cell_type": "code",
   "execution_count": 2,
   "metadata": {},
   "outputs": [
    {
     "data": {
      "text/plain": [
       "8"
      ]
     },
     "execution_count": 2,
     "metadata": {},
     "output_type": "execute_result"
    }
   ],
   "source": [
    "n = Node(8)\n",
    "n.getData()"
   ]
  },
  {
   "cell_type": "code",
   "execution_count": 3,
   "metadata": {},
   "outputs": [],
   "source": [
    "n.getNext()"
   ]
  },
  {
   "cell_type": "code",
   "execution_count": 4,
   "metadata": {},
   "outputs": [],
   "source": [
    "n.setNext(16)"
   ]
  },
  {
   "cell_type": "code",
   "execution_count": 5,
   "metadata": {},
   "outputs": [
    {
     "data": {
      "text/plain": [
       "16"
      ]
     },
     "execution_count": 5,
     "metadata": {},
     "output_type": "execute_result"
    }
   ],
   "source": [
    "n2 = n.getNext()\n",
    "n2.getData()"
   ]
  },
  {
   "cell_type": "code",
   "execution_count": 8,
   "metadata": {},
   "outputs": [
    {
     "data": {
      "text/plain": [
       "16"
      ]
     },
     "execution_count": 8,
     "metadata": {},
     "output_type": "execute_result"
    }
   ],
   "source": [
    "n.getNext().getData()"
   ]
  },
  {
   "cell_type": "code",
   "execution_count": null,
   "metadata": {},
   "outputs": [],
   "source": [
    "passw = 'pepito84'          \n",
    "hash = 78916523894352162"
   ]
  },
  {
   "cell_type": "code",
   "execution_count": null,
   "metadata": {},
   "outputs": [],
   "source": [
    "funcion_hash('pato')        # 78931\n",
    "funcion_hash('tarjeta')     # 78931"
   ]
  },
  {
   "cell_type": "code",
   "execution_count": 13,
   "metadata": {},
   "outputs": [],
   "source": [
    "class LinkedList:\n",
    "    def __init__(self):\n",
    "        self.head = None\n",
    "\n",
    "    def isEmpty(self):\n",
    "        \"\"\"Check if the list is empty\"\"\"\n",
    "        if (self.head == None):\n",
    "            return True\n",
    "        else:\n",
    "            return False\n",
    "\n",
    "    def add(self, item):\n",
    "        \"\"\"Add the item to the list\"\"\"\n",
    "        new_node = Node(item)\n",
    "        new_node.setNext(self.head)\n",
    "        self.head = new_node\n",
    "\n",
    "    def size(self):\n",
    "        \"\"\"Return the length/size of the list\"\"\"\n",
    "        count = 0\n",
    "        current = self.head\n",
    "        while (not(current == None)):\n",
    "            count += 1\n",
    "            current = current.getNext()\n",
    "        return count\n",
    "\n",
    "    def search(self, item):\n",
    "        \"\"\"Search for item in list. If found, return True. If not found, return False\"\"\"\n",
    "        current = self.head\n",
    "        found = False\n",
    "        while ((current != None) and (not found)):\n",
    "            if current.getData() is item:\n",
    "                found = True\n",
    "            else:\n",
    "                current = current.getNext()\n",
    "        return found\n",
    "\n",
    "    def remove(self, item):\n",
    "        \"\"\"Remove item from list. If item is not found in list, raise ValueError\"\"\"\n",
    "        current = self.head\n",
    "        previous = None\n",
    "        found = False\n",
    "        while((current != None) and (not found)):\n",
    "            if(current.getData() == item):\n",
    "                found = True\n",
    "            else:\n",
    "                previous = current\n",
    "                current = current.getNext()\n",
    "        if found:\n",
    "            if(previous == None):\n",
    "                self.head = current.getNext()\n",
    "            else:\n",
    "                previous.setNext(current.getNext())\n",
    "        else:\n",
    "            raise ValueError\n",
    "            print('Value not found.')\n",
    "\n",
    "    def insert(self, position, item):\n",
    "        \"\"\"\n",
    "        Insert item at position specified. If position specified is\n",
    "        out of bounds, raise IndexError\n",
    "        \"\"\"\n",
    "        if position > self.size() - 1:\n",
    "            raise IndexError\n",
    "            print('Index out of bounds.')\n",
    "        current = self.head\n",
    "        previous = None\n",
    "        pos = 0\n",
    "        if position == 0:\n",
    "            self.add(item)\n",
    "        else:\n",
    "            new_node = Node(item)\n",
    "            while pos < position:\n",
    "                pos += 1\n",
    "                previous = current\n",
    "                current = current.getNext()\n",
    "            previous.setNext(new_node)\n",
    "            new_node.setNext(current)\n",
    "\n",
    "    def index(self, item):\n",
    "        \"\"\"\n",
    "        Return the index where item is found.\n",
    "        If item is not found, return None.\n",
    "        \"\"\"\n",
    "        current = self.head\n",
    "        pos = 0\n",
    "        found = False\n",
    "        while ((current != None) and (not found)):\n",
    "            if (current.getData() == item):\n",
    "                found = True\n",
    "            else:\n",
    "                current = current.getNext()\n",
    "                pos += 1\n",
    "        if found:\n",
    "            pass\n",
    "        else:\n",
    "            pos = None\n",
    "        return pos\n",
    "\n",
    "    def pop(self, position = None):\n",
    "        \"\"\"\n",
    "        If no argument is provided, return and remove the item at the head. \n",
    "        If position is provided, return and remove the item at that position.\n",
    "        If index is out of bounds, raise IndexError\n",
    "        \"\"\"\n",
    "        current = self.head\n",
    "        if (position == None):\n",
    "            ret = current.getData()\n",
    "            self.head = current.getNext()\n",
    "        else:\n",
    "            if position > self.size():\n",
    "                print('Index out of bounds')\n",
    "                raise IndexError\n",
    "            pos = 0\n",
    "            previous = None\n",
    "            while pos < position:\n",
    "                previous = current\n",
    "                current = current.getNext()\n",
    "                pos += 1\n",
    "                ret = current.getData()\n",
    "            previous.setNext(current.getNext())\n",
    "        return ret\n",
    "\n",
    "    def append(self, item):\n",
    "        \"\"\"Append item to the end of the list\"\"\"\n",
    "        current = self.head\n",
    "        previous = None\n",
    "        pos = 0\n",
    "        length = self.size()\n",
    "        while pos < length:\n",
    "            previous = current\n",
    "            current = current.getNext()\n",
    "            pos += 1\n",
    "        new_node = Node(item)\n",
    "        if (previous == None):\n",
    "            new_node.setNext(current)\n",
    "            self.head = new_node\n",
    "        else:\n",
    "            previous.setNext(new_node)\n",
    "\n",
    "    def printList(self):\n",
    "        \"\"\"Print the list\"\"\"\n",
    "        current = self.head\n",
    "        while (not(current == None)):\n",
    "            print(current.getData())\n",
    "            current = current.getNext()"
   ]
  },
  {
   "cell_type": "code",
   "execution_count": 14,
   "metadata": {},
   "outputs": [
    {
     "data": {
      "text/plain": [
       "True"
      ]
     },
     "execution_count": 14,
     "metadata": {},
     "output_type": "execute_result"
    }
   ],
   "source": [
    "lis = LinkedList()\n",
    "lis.isEmpty()"
   ]
  },
  {
   "cell_type": "code",
   "execution_count": 15,
   "metadata": {},
   "outputs": [
    {
     "data": {
      "text/plain": [
       "1"
      ]
     },
     "execution_count": 15,
     "metadata": {},
     "output_type": "execute_result"
    }
   ],
   "source": [
    "lis.add('Rojo')\n",
    "lis.size()"
   ]
  },
  {
   "cell_type": "code",
   "execution_count": 18,
   "metadata": {},
   "outputs": [
    {
     "name": "stdout",
     "output_type": "stream",
     "text": [
      "Amarillo\n",
      "Azul\n",
      "Verde\n",
      "Rojo\n"
     ]
    }
   ],
   "source": [
    "lis.printList()"
   ]
  },
  {
   "cell_type": "code",
   "execution_count": 17,
   "metadata": {},
   "outputs": [],
   "source": [
    "lis.add('Verde')\n",
    "lis.add('Azul')\n",
    "lis.add('Amarillo')"
   ]
  },
  {
   "cell_type": "code",
   "execution_count": 19,
   "metadata": {},
   "outputs": [
    {
     "ename": "ModuleNotFoundError",
     "evalue": "No module named 'mi_modulo'",
     "output_type": "error",
     "traceback": [
      "\u001b[1;31m---------------------------------------------------------------------------\u001b[0m",
      "\u001b[1;31mModuleNotFoundError\u001b[0m                       Traceback (most recent call last)",
      "Cell \u001b[1;32mIn[19], line 1\u001b[0m\n\u001b[1;32m----> 1\u001b[0m \u001b[39mfrom\u001b[39;00m \u001b[39mmi_modulo\u001b[39;00m \u001b[39mimport\u001b[39;00m Node, LinkedList, Estructura_pila\n",
      "\u001b[1;31mModuleNotFoundError\u001b[0m: No module named 'mi_modulo'"
     ]
    }
   ],
   "source": [
    "from mi_modulo import Node, LinkedList, Estructura_pila\n",
    "\n"
   ]
  }
 ],
 "metadata": {
  "kernelspec": {
   "display_name": "Python 3.11.3 64-bit",
   "language": "python",
   "name": "python3"
  },
  "language_info": {
   "codemirror_mode": {
    "name": "ipython",
    "version": 3
   },
   "file_extension": ".py",
   "mimetype": "text/x-python",
   "name": "python",
   "nbconvert_exporter": "python",
   "pygments_lexer": "ipython3",
   "version": "3.11.3"
  },
  "vscode": {
   "interpreter": {
    "hash": "52634da84371cba311ea128a5ea7cdc41ff074b781779e754b270ff9f8153cee"
   }
  }
 },
 "nbformat": 4,
 "nbformat_minor": 4
}
