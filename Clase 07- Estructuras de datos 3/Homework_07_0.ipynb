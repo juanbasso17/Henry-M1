{
 "cells": [
  {
   "attachments": {},
   "cell_type": "markdown",
   "metadata": {},
   "source": [
    "# Práctica Clase 7"
   ]
  },
  {
   "attachments": {},
   "cell_type": "markdown",
   "metadata": {},
   "source": [
    "1) Diseñar una clase que permita trabajar con un árbol binario y que contenga los métodos:<br>\n",
    "    * insertaVal: para insertar un dato<br>\n",
    "    * buscaVal: que devuelva True o False si existe o no un dato<br>\n",
    "    * verVal: que imprima por pantalla los valores del árbol<br>\n",
    "\n",
    "Nota: Se puede utilizar la recursividad\n"
   ]
  },
  {
   "cell_type": "code",
   "execution_count": 5,
   "metadata": {},
   "outputs": [],
   "source": [
    "class Node:\n",
    "        def __init__(self,data):\n",
    "            self.data= data\n",
    "            self.left= None\n",
    "            self.right= None\n",
    "\n",
    "class Tree:\n",
    "    def __init__(self):\n",
    "        self.data= None\n",
    "    \n",
    "    def invalue(self, value):\n",
    "        if self.data == None:\n",
    "            self.data = Node(value)\n",
    "            if self.value != None:\n",
    "                if value < self.value:\n",
    "                    if self.left == None:\n",
    "                        self.left = Node(value)\n",
    "                    else:\n",
    "                        self.left.invalue(value)\n",
    "                elif value > self.value:\n",
    "                    if self.right == None:\n",
    "                        self.right = Node(value)\n",
    "                    else:\n",
    "                        self.right.invalue(value)\n",
    "                else:\n",
    "                    print('No puede haber valores duplicados')        \n",
    "            else:\n",
    "                self.data = value"
   ]
  },
  {
   "cell_type": "code",
   "execution_count": 6,
   "metadata": {},
   "outputs": [
    {
     "ename": "AttributeError",
     "evalue": "'Tree' object has no attribute 'value'",
     "output_type": "error",
     "traceback": [
      "\u001b[0;31m---------------------------------------------------------------------------\u001b[0m",
      "\u001b[0;31mAttributeError\u001b[0m                            Traceback (most recent call last)",
      "Cell \u001b[0;32mIn[6], line 2\u001b[0m\n\u001b[1;32m      1\u001b[0m binarytree\u001b[39m=\u001b[39m Tree()\n\u001b[0;32m----> 2\u001b[0m binarytree\u001b[39m.\u001b[39;49minvalue(\u001b[39m5\u001b[39;49m)\n",
      "Cell \u001b[0;32mIn[5], line 14\u001b[0m, in \u001b[0;36mTree.invalue\u001b[0;34m(self, value)\u001b[0m\n\u001b[1;32m     12\u001b[0m \u001b[39mif\u001b[39;00m \u001b[39mself\u001b[39m\u001b[39m.\u001b[39mdata \u001b[39m==\u001b[39m \u001b[39mNone\u001b[39;00m:\n\u001b[1;32m     13\u001b[0m     \u001b[39mself\u001b[39m\u001b[39m.\u001b[39mdata \u001b[39m=\u001b[39m Node(value)\n\u001b[0;32m---> 14\u001b[0m     \u001b[39mif\u001b[39;00m \u001b[39mself\u001b[39;49m\u001b[39m.\u001b[39;49mvalue \u001b[39m!=\u001b[39m \u001b[39mNone\u001b[39;00m:\n\u001b[1;32m     15\u001b[0m         \u001b[39mif\u001b[39;00m value \u001b[39m<\u001b[39m \u001b[39mself\u001b[39m\u001b[39m.\u001b[39mvalue:\n\u001b[1;32m     16\u001b[0m             \u001b[39mif\u001b[39;00m \u001b[39mself\u001b[39m\u001b[39m.\u001b[39mleft \u001b[39m==\u001b[39m \u001b[39mNone\u001b[39;00m:\n",
      "\u001b[0;31mAttributeError\u001b[0m: 'Tree' object has no attribute 'value'"
     ]
    }
   ],
   "source": [
    "binarytree= Tree()\n",
    "binarytree.invalue(5)"
   ]
  },
  {
   "cell_type": "code",
   "execution_count": null,
   "metadata": {},
   "outputs": [],
   "source": []
  },
  {
   "cell_type": "code",
   "execution_count": 2,
   "metadata": {},
   "outputs": [],
   "source": [
    "class Arbol():\n",
    "    def __init_subclass__(cls) -> None:\n",
    "    def __init__(self,key):\n",
    "        self.key= key           # Value stored in the node\n",
    "        self.left= None         # Reference to the left child in the node tree\n",
    "        self.right= None        # Reference to the right child in the node tree\n",
    "\n",
    "    def insVal(self, key):\n"
   ]
  },
  {
   "cell_type": "code",
   "execution_count": null,
   "metadata": {},
   "outputs": [],
   "source": []
  }
 ],
 "metadata": {
  "kernelspec": {
   "display_name": "Python 3",
   "language": "python",
   "name": "python3"
  },
  "language_info": {
   "codemirror_mode": {
    "name": "ipython",
    "version": 3
   },
   "file_extension": ".py",
   "mimetype": "text/x-python",
   "name": "python",
   "nbconvert_exporter": "python",
   "pygments_lexer": "ipython3",
   "version": "3.11.4"
  }
 },
 "nbformat": 4,
 "nbformat_minor": 4
}
